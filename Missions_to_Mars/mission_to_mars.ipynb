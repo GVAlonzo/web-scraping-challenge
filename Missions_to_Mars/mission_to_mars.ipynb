{
 "cells": [
  {
   "cell_type": "code",
   "execution_count": 1,
   "id": "120b8372",
   "metadata": {},
   "outputs": [],
   "source": [
    "########################################################################\n",
    "##\n",
    "##  Web Scraping Homework - Mission to Mars\n",
    "##\n",
    "##       Author: George Alonzo\n",
    "##     Due Date: November 20, 2021\n",
    "##\n",
    "########################################################################"
   ]
  },
  {
   "cell_type": "code",
   "execution_count": 2,
   "id": "73f5ee5e",
   "metadata": {},
   "outputs": [],
   "source": [
    "import pandas as pd\n",
    "from splinter import Browser\n",
    "from bs4 import BeautifulSoup\n",
    "from webdriver_manager.chrome import ChromeDriverManager\n",
    "from flask import Flask, jsonify"
   ]
  },
  {
   "cell_type": "code",
   "execution_count": 3,
   "id": "e3cac781",
   "metadata": {
    "scrolled": true
   },
   "outputs": [
    {
     "name": "stderr",
     "output_type": "stream",
     "text": [
      "\n",
      "\n",
      "====== WebDriver manager ======\n",
      "Current google-chrome version is 96.0.4664\n",
      "Get LATEST chromedriver version for 96.0.4664 google-chrome\n",
      "Trying to download new driver from https://chromedriver.storage.googleapis.com/96.0.4664.45/chromedriver_win32.zip\n",
      "Driver has been saved in cache [C:\\Users\\Tower\\.wdm\\drivers\\chromedriver\\win32\\96.0.4664.45]\n"
     ]
    }
   ],
   "source": [
    "# Setup splinter\n",
    "executable_path = {'executable_path': ChromeDriverManager().install()}\n",
    "browser = Browser('chrome', **executable_path, headless=False)"
   ]
  },
  {
   "cell_type": "markdown",
   "id": "dce95429",
   "metadata": {},
   "source": [
    "# NASA Mars News"
   ]
  },
  {
   "cell_type": "code",
   "execution_count": 4,
   "id": "07e01e5e",
   "metadata": {},
   "outputs": [],
   "source": [
    "url = 'https://redplanetscience.com/'\n",
    "browser.visit(url)"
   ]
  },
  {
   "cell_type": "code",
   "execution_count": 5,
   "id": "23ec1f36",
   "metadata": {},
   "outputs": [],
   "source": [
    "html = browser.html\n",
    "soup = BeautifulSoup(html, 'html.parser')"
   ]
  },
  {
   "cell_type": "code",
   "execution_count": 6,
   "id": "f7549da3",
   "metadata": {},
   "outputs": [],
   "source": [
    "# Retrieve the parent divs for all articles\n",
    "results = soup.find_all('div', class_='list_text')"
   ]
  },
  {
   "cell_type": "code",
   "execution_count": 7,
   "id": "7d1dba0c",
   "metadata": {},
   "outputs": [
    {
     "name": "stdout",
     "output_type": "stream",
     "text": [
      "-----------------\n",
      "['New Selfie Shows Curiosity, the Mars Chemist']\n",
      "['The NASA rover performed a special chemistry experiment at the location captured in its newest self-portrait.']\n",
      "-----------------\n",
      "['New Selfie Shows Curiosity, the Mars Chemist', \"NASA's Perseverance Rover Mission Getting in Shape for Launch\"]\n",
      "['The NASA rover performed a special chemistry experiment at the location captured in its newest self-portrait.', 'Stacking spacecraft components on top of each other is one of the final assembly steps before a mission launches to the Red Planet. ']\n",
      "-----------------\n",
      "['New Selfie Shows Curiosity, the Mars Chemist', \"NASA's Perseverance Rover Mission Getting in Shape for Launch\", \"NASA's Mars 2020 Rover Goes Coast-to-Coast to Prep for Launch\"]\n",
      "['The NASA rover performed a special chemistry experiment at the location captured in its newest self-portrait.', 'Stacking spacecraft components on top of each other is one of the final assembly steps before a mission launches to the Red Planet. ', \"The agency's first step in returning rocks from Mars just arrived at Kennedy Space Center. The Mars 2020 team now begins readying for a launch to the Red Planet this July.\"]\n",
      "-----------------\n",
      "['New Selfie Shows Curiosity, the Mars Chemist', \"NASA's Perseverance Rover Mission Getting in Shape for Launch\", \"NASA's Mars 2020 Rover Goes Coast-to-Coast to Prep for Launch\", \"What's Mars Solar Conjunction, and Why Does It Matter?\"]\n",
      "['The NASA rover performed a special chemistry experiment at the location captured in its newest self-portrait.', 'Stacking spacecraft components on top of each other is one of the final assembly steps before a mission launches to the Red Planet. ', \"The agency's first step in returning rocks from Mars just arrived at Kennedy Space Center. The Mars 2020 team now begins readying for a launch to the Red Planet this July.\", 'NASA spacecraft at Mars are going to be on their own for a few weeks when the Sun comes between Mars and Earth, interrupting communications.']\n",
      "-----------------\n",
      "['New Selfie Shows Curiosity, the Mars Chemist', \"NASA's Perseverance Rover Mission Getting in Shape for Launch\", \"NASA's Mars 2020 Rover Goes Coast-to-Coast to Prep for Launch\", \"What's Mars Solar Conjunction, and Why Does It Matter?\", \"Q&A with the Student Who Named Ingenuity, NASA's Mars Helicopter\"]\n",
      "['The NASA rover performed a special chemistry experiment at the location captured in its newest self-portrait.', 'Stacking spacecraft components on top of each other is one of the final assembly steps before a mission launches to the Red Planet. ', \"The agency's first step in returning rocks from Mars just arrived at Kennedy Space Center. The Mars 2020 team now begins readying for a launch to the Red Planet this July.\", 'NASA spacecraft at Mars are going to be on their own for a few weeks when the Sun comes between Mars and Earth, interrupting communications.', 'As a longtime fan of space exploration, Vaneeza Rupani appreciates the creativity and collaboration involved with trying to fly on another planet.']\n",
      "-----------------\n",
      "['New Selfie Shows Curiosity, the Mars Chemist', \"NASA's Perseverance Rover Mission Getting in Shape for Launch\", \"NASA's Mars 2020 Rover Goes Coast-to-Coast to Prep for Launch\", \"What's Mars Solar Conjunction, and Why Does It Matter?\", \"Q&A with the Student Who Named Ingenuity, NASA's Mars Helicopter\", \"NASA's Perseverance Mars Rover Gets Its Wheels and Air Brakes\"]\n",
      "['The NASA rover performed a special chemistry experiment at the location captured in its newest self-portrait.', 'Stacking spacecraft components on top of each other is one of the final assembly steps before a mission launches to the Red Planet. ', \"The agency's first step in returning rocks from Mars just arrived at Kennedy Space Center. The Mars 2020 team now begins readying for a launch to the Red Planet this July.\", 'NASA spacecraft at Mars are going to be on their own for a few weeks when the Sun comes between Mars and Earth, interrupting communications.', 'As a longtime fan of space exploration, Vaneeza Rupani appreciates the creativity and collaboration involved with trying to fly on another planet.', 'After the rover was shipped from JPL to Kennedy Space Center, the team is getting closer to finalizing the spacecraft for launch later this summer.']\n",
      "-----------------\n",
      "['New Selfie Shows Curiosity, the Mars Chemist', \"NASA's Perseverance Rover Mission Getting in Shape for Launch\", \"NASA's Mars 2020 Rover Goes Coast-to-Coast to Prep for Launch\", \"What's Mars Solar Conjunction, and Why Does It Matter?\", \"Q&A with the Student Who Named Ingenuity, NASA's Mars Helicopter\", \"NASA's Perseverance Mars Rover Gets Its Wheels and Air Brakes\", \"NASA's Treasure Map for Water Ice on Mars\"]\n",
      "['The NASA rover performed a special chemistry experiment at the location captured in its newest self-portrait.', 'Stacking spacecraft components on top of each other is one of the final assembly steps before a mission launches to the Red Planet. ', \"The agency's first step in returning rocks from Mars just arrived at Kennedy Space Center. The Mars 2020 team now begins readying for a launch to the Red Planet this July.\", 'NASA spacecraft at Mars are going to be on their own for a few weeks when the Sun comes between Mars and Earth, interrupting communications.', 'As a longtime fan of space exploration, Vaneeza Rupani appreciates the creativity and collaboration involved with trying to fly on another planet.', 'After the rover was shipped from JPL to Kennedy Space Center, the team is getting closer to finalizing the spacecraft for launch later this summer.', 'A new study identifies frozen water just below the Martian surface, where astronauts could easily dig it up.']\n",
      "-----------------\n",
      "['New Selfie Shows Curiosity, the Mars Chemist', \"NASA's Perseverance Rover Mission Getting in Shape for Launch\", \"NASA's Mars 2020 Rover Goes Coast-to-Coast to Prep for Launch\", \"What's Mars Solar Conjunction, and Why Does It Matter?\", \"Q&A with the Student Who Named Ingenuity, NASA's Mars Helicopter\", \"NASA's Perseverance Mars Rover Gets Its Wheels and Air Brakes\", \"NASA's Treasure Map for Water Ice on Mars\", \"NASA's InSight Flexes Its Arm While Its 'Mole' Hits Pause\"]\n",
      "['The NASA rover performed a special chemistry experiment at the location captured in its newest self-portrait.', 'Stacking spacecraft components on top of each other is one of the final assembly steps before a mission launches to the Red Planet. ', \"The agency's first step in returning rocks from Mars just arrived at Kennedy Space Center. The Mars 2020 team now begins readying for a launch to the Red Planet this July.\", 'NASA spacecraft at Mars are going to be on their own for a few weeks when the Sun comes between Mars and Earth, interrupting communications.', 'As a longtime fan of space exploration, Vaneeza Rupani appreciates the creativity and collaboration involved with trying to fly on another planet.', 'After the rover was shipped from JPL to Kennedy Space Center, the team is getting closer to finalizing the spacecraft for launch later this summer.', 'A new study identifies frozen water just below the Martian surface, where astronauts could easily dig it up.', \"Now that the lander's robotic arm has helped the mole get underground, it will resume science activities that have been on hold.\"]\n",
      "-----------------\n",
      "['New Selfie Shows Curiosity, the Mars Chemist', \"NASA's Perseverance Rover Mission Getting in Shape for Launch\", \"NASA's Mars 2020 Rover Goes Coast-to-Coast to Prep for Launch\", \"What's Mars Solar Conjunction, and Why Does It Matter?\", \"Q&A with the Student Who Named Ingenuity, NASA's Mars Helicopter\", \"NASA's Perseverance Mars Rover Gets Its Wheels and Air Brakes\", \"NASA's Treasure Map for Water Ice on Mars\", \"NASA's InSight Flexes Its Arm While Its 'Mole' Hits Pause\", \"NASA's Curiosity Mars Rover Snaps Its Highest-Resolution Panorama Yet\"]\n",
      "['The NASA rover performed a special chemistry experiment at the location captured in its newest self-portrait.', 'Stacking spacecraft components on top of each other is one of the final assembly steps before a mission launches to the Red Planet. ', \"The agency's first step in returning rocks from Mars just arrived at Kennedy Space Center. The Mars 2020 team now begins readying for a launch to the Red Planet this July.\", 'NASA spacecraft at Mars are going to be on their own for a few weeks when the Sun comes between Mars and Earth, interrupting communications.', 'As a longtime fan of space exploration, Vaneeza Rupani appreciates the creativity and collaboration involved with trying to fly on another planet.', 'After the rover was shipped from JPL to Kennedy Space Center, the team is getting closer to finalizing the spacecraft for launch later this summer.', 'A new study identifies frozen water just below the Martian surface, where astronauts could easily dig it up.', \"Now that the lander's robotic arm has helped the mole get underground, it will resume science activities that have been on hold.\", 'To go along with the stunning 1.8-billion-pixel image, a new video offers a sweeping view of the Red Planet.']\n",
      "-----------------\n",
      "['New Selfie Shows Curiosity, the Mars Chemist', \"NASA's Perseverance Rover Mission Getting in Shape for Launch\", \"NASA's Mars 2020 Rover Goes Coast-to-Coast to Prep for Launch\", \"What's Mars Solar Conjunction, and Why Does It Matter?\", \"Q&A with the Student Who Named Ingenuity, NASA's Mars Helicopter\", \"NASA's Perseverance Mars Rover Gets Its Wheels and Air Brakes\", \"NASA's Treasure Map for Water Ice on Mars\", \"NASA's InSight Flexes Its Arm While Its 'Mole' Hits Pause\", \"NASA's Curiosity Mars Rover Snaps Its Highest-Resolution Panorama Yet\", \"NASA's Mars 2020 Rover Closer to Getting Its Name\"]\n",
      "['The NASA rover performed a special chemistry experiment at the location captured in its newest self-portrait.', 'Stacking spacecraft components on top of each other is one of the final assembly steps before a mission launches to the Red Planet. ', \"The agency's first step in returning rocks from Mars just arrived at Kennedy Space Center. The Mars 2020 team now begins readying for a launch to the Red Planet this July.\", 'NASA spacecraft at Mars are going to be on their own for a few weeks when the Sun comes between Mars and Earth, interrupting communications.', 'As a longtime fan of space exploration, Vaneeza Rupani appreciates the creativity and collaboration involved with trying to fly on another planet.', 'After the rover was shipped from JPL to Kennedy Space Center, the team is getting closer to finalizing the spacecraft for launch later this summer.', 'A new study identifies frozen water just below the Martian surface, where astronauts could easily dig it up.', \"Now that the lander's robotic arm has helped the mole get underground, it will resume science activities that have been on hold.\", 'To go along with the stunning 1.8-billion-pixel image, a new video offers a sweeping view of the Red Planet.', \"155 students from across the U.S. have been chosen as semifinalists in NASA's essay contest to name the Mars 2020 rover, and see it launch from Cape Canaveral this July.\"]\n",
      "-----------------\n",
      "['New Selfie Shows Curiosity, the Mars Chemist', \"NASA's Perseverance Rover Mission Getting in Shape for Launch\", \"NASA's Mars 2020 Rover Goes Coast-to-Coast to Prep for Launch\", \"What's Mars Solar Conjunction, and Why Does It Matter?\", \"Q&A with the Student Who Named Ingenuity, NASA's Mars Helicopter\", \"NASA's Perseverance Mars Rover Gets Its Wheels and Air Brakes\", \"NASA's Treasure Map for Water Ice on Mars\", \"NASA's InSight Flexes Its Arm While Its 'Mole' Hits Pause\", \"NASA's Curiosity Mars Rover Snaps Its Highest-Resolution Panorama Yet\", \"NASA's Mars 2020 Rover Closer to Getting Its Name\", \"NASA's Perseverance Rover 100 Days Out\"]\n",
      "['The NASA rover performed a special chemistry experiment at the location captured in its newest self-portrait.', 'Stacking spacecraft components on top of each other is one of the final assembly steps before a mission launches to the Red Planet. ', \"The agency's first step in returning rocks from Mars just arrived at Kennedy Space Center. The Mars 2020 team now begins readying for a launch to the Red Planet this July.\", 'NASA spacecraft at Mars are going to be on their own for a few weeks when the Sun comes between Mars and Earth, interrupting communications.', 'As a longtime fan of space exploration, Vaneeza Rupani appreciates the creativity and collaboration involved with trying to fly on another planet.', 'After the rover was shipped from JPL to Kennedy Space Center, the team is getting closer to finalizing the spacecraft for launch later this summer.', 'A new study identifies frozen water just below the Martian surface, where astronauts could easily dig it up.', \"Now that the lander's robotic arm has helped the mole get underground, it will resume science activities that have been on hold.\", 'To go along with the stunning 1.8-billion-pixel image, a new video offers a sweeping view of the Red Planet.', \"155 students from across the U.S. have been chosen as semifinalists in NASA's essay contest to name the Mars 2020 rover, and see it launch from Cape Canaveral this July.\", \"Mark your calendars: The agency's latest rover has only about 8,640,000 seconds to go before it touches down on the Red Planet, becoming history's next Mars car.\"]\n",
      "-----------------\n",
      "['New Selfie Shows Curiosity, the Mars Chemist', \"NASA's Perseverance Rover Mission Getting in Shape for Launch\", \"NASA's Mars 2020 Rover Goes Coast-to-Coast to Prep for Launch\", \"What's Mars Solar Conjunction, and Why Does It Matter?\", \"Q&A with the Student Who Named Ingenuity, NASA's Mars Helicopter\", \"NASA's Perseverance Mars Rover Gets Its Wheels and Air Brakes\", \"NASA's Treasure Map for Water Ice on Mars\", \"NASA's InSight Flexes Its Arm While Its 'Mole' Hits Pause\", \"NASA's Curiosity Mars Rover Snaps Its Highest-Resolution Panorama Yet\", \"NASA's Mars 2020 Rover Closer to Getting Its Name\", \"NASA's Perseverance Rover 100 Days Out\", 'Mars Is Getting a New Robotic Meteorologist']\n",
      "['The NASA rover performed a special chemistry experiment at the location captured in its newest self-portrait.', 'Stacking spacecraft components on top of each other is one of the final assembly steps before a mission launches to the Red Planet. ', \"The agency's first step in returning rocks from Mars just arrived at Kennedy Space Center. The Mars 2020 team now begins readying for a launch to the Red Planet this July.\", 'NASA spacecraft at Mars are going to be on their own for a few weeks when the Sun comes between Mars and Earth, interrupting communications.', 'As a longtime fan of space exploration, Vaneeza Rupani appreciates the creativity and collaboration involved with trying to fly on another planet.', 'After the rover was shipped from JPL to Kennedy Space Center, the team is getting closer to finalizing the spacecraft for launch later this summer.', 'A new study identifies frozen water just below the Martian surface, where astronauts could easily dig it up.', \"Now that the lander's robotic arm has helped the mole get underground, it will resume science activities that have been on hold.\", 'To go along with the stunning 1.8-billion-pixel image, a new video offers a sweeping view of the Red Planet.', \"155 students from across the U.S. have been chosen as semifinalists in NASA's essay contest to name the Mars 2020 rover, and see it launch from Cape Canaveral this July.\", \"Mark your calendars: The agency's latest rover has only about 8,640,000 seconds to go before it touches down on the Red Planet, becoming history's next Mars car.\", \"Sensors on NASA's Perseverance will help prepare for future human exploration by taking weather measurements and studying dust particles.\"]\n",
      "-----------------\n",
      "['New Selfie Shows Curiosity, the Mars Chemist', \"NASA's Perseverance Rover Mission Getting in Shape for Launch\", \"NASA's Mars 2020 Rover Goes Coast-to-Coast to Prep for Launch\", \"What's Mars Solar Conjunction, and Why Does It Matter?\", \"Q&A with the Student Who Named Ingenuity, NASA's Mars Helicopter\", \"NASA's Perseverance Mars Rover Gets Its Wheels and Air Brakes\", \"NASA's Treasure Map for Water Ice on Mars\", \"NASA's InSight Flexes Its Arm While Its 'Mole' Hits Pause\", \"NASA's Curiosity Mars Rover Snaps Its Highest-Resolution Panorama Yet\", \"NASA's Mars 2020 Rover Closer to Getting Its Name\", \"NASA's Perseverance Rover 100 Days Out\", 'Mars Is Getting a New Robotic Meteorologist', 'Space History Is Made in This NASA Robot Factory']\n",
      "['The NASA rover performed a special chemistry experiment at the location captured in its newest self-portrait.', 'Stacking spacecraft components on top of each other is one of the final assembly steps before a mission launches to the Red Planet. ', \"The agency's first step in returning rocks from Mars just arrived at Kennedy Space Center. The Mars 2020 team now begins readying for a launch to the Red Planet this July.\", 'NASA spacecraft at Mars are going to be on their own for a few weeks when the Sun comes between Mars and Earth, interrupting communications.', 'As a longtime fan of space exploration, Vaneeza Rupani appreciates the creativity and collaboration involved with trying to fly on another planet.', 'After the rover was shipped from JPL to Kennedy Space Center, the team is getting closer to finalizing the spacecraft for launch later this summer.', 'A new study identifies frozen water just below the Martian surface, where astronauts could easily dig it up.', \"Now that the lander's robotic arm has helped the mole get underground, it will resume science activities that have been on hold.\", 'To go along with the stunning 1.8-billion-pixel image, a new video offers a sweeping view of the Red Planet.', \"155 students from across the U.S. have been chosen as semifinalists in NASA's essay contest to name the Mars 2020 rover, and see it launch from Cape Canaveral this July.\", \"Mark your calendars: The agency's latest rover has only about 8,640,000 seconds to go before it touches down on the Red Planet, becoming history's next Mars car.\", \"Sensors on NASA's Perseverance will help prepare for future human exploration by taking weather measurements and studying dust particles.\", \"From rockets to rovers, JPL's Spacecraft Assembly Facility has been at the center of robotic spaceflight. Here's a closer look at what makes it so special.\"]\n",
      "-----------------\n",
      "['New Selfie Shows Curiosity, the Mars Chemist', \"NASA's Perseverance Rover Mission Getting in Shape for Launch\", \"NASA's Mars 2020 Rover Goes Coast-to-Coast to Prep for Launch\", \"What's Mars Solar Conjunction, and Why Does It Matter?\", \"Q&A with the Student Who Named Ingenuity, NASA's Mars Helicopter\", \"NASA's Perseverance Mars Rover Gets Its Wheels and Air Brakes\", \"NASA's Treasure Map for Water Ice on Mars\", \"NASA's InSight Flexes Its Arm While Its 'Mole' Hits Pause\", \"NASA's Curiosity Mars Rover Snaps Its Highest-Resolution Panorama Yet\", \"NASA's Mars 2020 Rover Closer to Getting Its Name\", \"NASA's Perseverance Rover 100 Days Out\", 'Mars Is Getting a New Robotic Meteorologist', 'Space History Is Made in This NASA Robot Factory', \"NASA-JPL Names 'Rolling Stones Rock' on Mars\"]\n",
      "['The NASA rover performed a special chemistry experiment at the location captured in its newest self-portrait.', 'Stacking spacecraft components on top of each other is one of the final assembly steps before a mission launches to the Red Planet. ', \"The agency's first step in returning rocks from Mars just arrived at Kennedy Space Center. The Mars 2020 team now begins readying for a launch to the Red Planet this July.\", 'NASA spacecraft at Mars are going to be on their own for a few weeks when the Sun comes between Mars and Earth, interrupting communications.', 'As a longtime fan of space exploration, Vaneeza Rupani appreciates the creativity and collaboration involved with trying to fly on another planet.', 'After the rover was shipped from JPL to Kennedy Space Center, the team is getting closer to finalizing the spacecraft for launch later this summer.', 'A new study identifies frozen water just below the Martian surface, where astronauts could easily dig it up.', \"Now that the lander's robotic arm has helped the mole get underground, it will resume science activities that have been on hold.\", 'To go along with the stunning 1.8-billion-pixel image, a new video offers a sweeping view of the Red Planet.', \"155 students from across the U.S. have been chosen as semifinalists in NASA's essay contest to name the Mars 2020 rover, and see it launch from Cape Canaveral this July.\", \"Mark your calendars: The agency's latest rover has only about 8,640,000 seconds to go before it touches down on the Red Planet, becoming history's next Mars car.\", \"Sensors on NASA's Perseverance will help prepare for future human exploration by taking weather measurements and studying dust particles.\", \"From rockets to rovers, JPL's Spacecraft Assembly Facility has been at the center of robotic spaceflight. Here's a closer look at what makes it so special.\", \"NASA's Mars InSight mission honored one of the biggest bands of all time at Pasadena concert.\"]\n",
      "-----------------\n",
      "['New Selfie Shows Curiosity, the Mars Chemist', \"NASA's Perseverance Rover Mission Getting in Shape for Launch\", \"NASA's Mars 2020 Rover Goes Coast-to-Coast to Prep for Launch\", \"What's Mars Solar Conjunction, and Why Does It Matter?\", \"Q&A with the Student Who Named Ingenuity, NASA's Mars Helicopter\", \"NASA's Perseverance Mars Rover Gets Its Wheels and Air Brakes\", \"NASA's Treasure Map for Water Ice on Mars\", \"NASA's InSight Flexes Its Arm While Its 'Mole' Hits Pause\", \"NASA's Curiosity Mars Rover Snaps Its Highest-Resolution Panorama Yet\", \"NASA's Mars 2020 Rover Closer to Getting Its Name\", \"NASA's Perseverance Rover 100 Days Out\", 'Mars Is Getting a New Robotic Meteorologist', 'Space History Is Made in This NASA Robot Factory', \"NASA-JPL Names 'Rolling Stones Rock' on Mars\", 'NASA Adds Return Sample Scientists to Mars 2020 Leadership Team']\n",
      "['The NASA rover performed a special chemistry experiment at the location captured in its newest self-portrait.', 'Stacking spacecraft components on top of each other is one of the final assembly steps before a mission launches to the Red Planet. ', \"The agency's first step in returning rocks from Mars just arrived at Kennedy Space Center. The Mars 2020 team now begins readying for a launch to the Red Planet this July.\", 'NASA spacecraft at Mars are going to be on their own for a few weeks when the Sun comes between Mars and Earth, interrupting communications.', 'As a longtime fan of space exploration, Vaneeza Rupani appreciates the creativity and collaboration involved with trying to fly on another planet.', 'After the rover was shipped from JPL to Kennedy Space Center, the team is getting closer to finalizing the spacecraft for launch later this summer.', 'A new study identifies frozen water just below the Martian surface, where astronauts could easily dig it up.', \"Now that the lander's robotic arm has helped the mole get underground, it will resume science activities that have been on hold.\", 'To go along with the stunning 1.8-billion-pixel image, a new video offers a sweeping view of the Red Planet.', \"155 students from across the U.S. have been chosen as semifinalists in NASA's essay contest to name the Mars 2020 rover, and see it launch from Cape Canaveral this July.\", \"Mark your calendars: The agency's latest rover has only about 8,640,000 seconds to go before it touches down on the Red Planet, becoming history's next Mars car.\", \"Sensors on NASA's Perseverance will help prepare for future human exploration by taking weather measurements and studying dust particles.\", \"From rockets to rovers, JPL's Spacecraft Assembly Facility has been at the center of robotic spaceflight. Here's a closer look at what makes it so special.\", \"NASA's Mars InSight mission honored one of the biggest bands of all time at Pasadena concert.\", 'The leadership council for Mars 2020 science added two new members who represent the interests of scientists destined to handle and study the first samples from Red Planet.']\n",
      "==================================================\n",
      "Number of Headers scraped & stored: 15\n",
      "Number of Sub-Headers scraped & stored: 15\n"
     ]
    }
   ],
   "source": [
    "# loop over results to get article data\n",
    "\n",
    "# NOT GOING TO ATTEMPT TRYING TO CLICK THE 'MORE' BUTTON AS IT IS NOT ENABLED ON THE PAGE\n",
    "news_title=[]\n",
    "paragraph_text=[]\n",
    "for result in results:\n",
    "    # scrape the article header \n",
    "    news_title.append(result.find('div', class_='content_title').text)\n",
    "\n",
    "    # scrape the article subheader\n",
    "    paragraph_text.append(result.find('div', class_='article_teaser_body').text)\n",
    "    \n",
    "    # print data\n",
    "    print('-----------------')\n",
    "    print(news_title)\n",
    "    print(paragraph_text)\n",
    "\n",
    "print(\"=\"*50)\n",
    "print(f\"Number of Headers scraped & stored: {len(news_title)}\")\n",
    "print(f\"Number of Sub-Headers scraped & stored: {len(paragraph_text)}\")"
   ]
  },
  {
   "cell_type": "markdown",
   "id": "0d628cba",
   "metadata": {},
   "source": [
    "# JPL Mars Space Images - Featured Image"
   ]
  },
  {
   "cell_type": "code",
   "execution_count": 8,
   "id": "a342e29a",
   "metadata": {},
   "outputs": [],
   "source": [
    "url = 'https://spaceimages-mars.com/'\n",
    "browser.visit(url)"
   ]
  },
  {
   "cell_type": "code",
   "execution_count": 9,
   "id": "626a1f7c",
   "metadata": {},
   "outputs": [],
   "source": [
    "html = browser.html\n",
    "soup = BeautifulSoup(html, 'html.parser')"
   ]
  },
  {
   "cell_type": "code",
   "execution_count": 10,
   "id": "fcd3c1cc",
   "metadata": {},
   "outputs": [],
   "source": [
    "results = soup.find_all('div', class_='header')"
   ]
  },
  {
   "cell_type": "code",
   "execution_count": 11,
   "id": "0b240ae0",
   "metadata": {},
   "outputs": [
    {
     "name": "stdout",
     "output_type": "stream",
     "text": [
      "Header Image URL: https://spaceimages-mars.com/image/featured/mars1.jpg\n"
     ]
    }
   ],
   "source": [
    "for result in results:\n",
    "    featured_image = result.find('img', class_='headerimage fade-in')['src']\n",
    "    featured_image_url = \"https://spaceimages-mars.com/\"+featured_image\n",
    "      \n",
    "print(f\"Header Image URL: {featured_image_url}\")"
   ]
  },
  {
   "cell_type": "markdown",
   "id": "6954e58e",
   "metadata": {},
   "source": [
    "# Mars Facts"
   ]
  },
  {
   "cell_type": "code",
   "execution_count": 12,
   "id": "cbdc1a2c",
   "metadata": {},
   "outputs": [],
   "source": [
    "url = 'https://galaxyfacts-mars.com/'"
   ]
  },
  {
   "cell_type": "code",
   "execution_count": 13,
   "id": "dd2fef6d",
   "metadata": {},
   "outputs": [
    {
     "data": {
      "text/html": [
       "<div>\n",
       "<style scoped>\n",
       "    .dataframe tbody tr th:only-of-type {\n",
       "        vertical-align: middle;\n",
       "    }\n",
       "\n",
       "    .dataframe tbody tr th {\n",
       "        vertical-align: top;\n",
       "    }\n",
       "\n",
       "    .dataframe thead th {\n",
       "        text-align: right;\n",
       "    }\n",
       "</style>\n",
       "<table border=\"1\" class=\"dataframe\">\n",
       "  <thead>\n",
       "    <tr style=\"text-align: right;\">\n",
       "      <th></th>\n",
       "      <th>Mars</th>\n",
       "      <th>Earth</th>\n",
       "    </tr>\n",
       "    <tr>\n",
       "      <th>Description</th>\n",
       "      <th></th>\n",
       "      <th></th>\n",
       "    </tr>\n",
       "  </thead>\n",
       "  <tbody>\n",
       "    <tr>\n",
       "      <th>Diameter:</th>\n",
       "      <td>6,779 km</td>\n",
       "      <td>12,742 km</td>\n",
       "    </tr>\n",
       "    <tr>\n",
       "      <th>Mass:</th>\n",
       "      <td>6.39 × 10^23 kg</td>\n",
       "      <td>5.97 × 10^24 kg</td>\n",
       "    </tr>\n",
       "    <tr>\n",
       "      <th>Moons:</th>\n",
       "      <td>2</td>\n",
       "      <td>1</td>\n",
       "    </tr>\n",
       "    <tr>\n",
       "      <th>Distance from Sun:</th>\n",
       "      <td>227,943,824 km</td>\n",
       "      <td>149,598,262 km</td>\n",
       "    </tr>\n",
       "    <tr>\n",
       "      <th>Length of Year:</th>\n",
       "      <td>687 Earth days</td>\n",
       "      <td>365.24 days</td>\n",
       "    </tr>\n",
       "    <tr>\n",
       "      <th>Temperature:</th>\n",
       "      <td>-87 to -5 °C</td>\n",
       "      <td>-88 to 58°C</td>\n",
       "    </tr>\n",
       "  </tbody>\n",
       "</table>\n",
       "</div>"
      ],
      "text/plain": [
       "                               Mars            Earth\n",
       "Description                                         \n",
       "Diameter:                  6,779 km        12,742 km\n",
       "Mass:               6.39 × 10^23 kg  5.97 × 10^24 kg\n",
       "Moons:                            2                1\n",
       "Distance from Sun:   227,943,824 km   149,598,262 km\n",
       "Length of Year:      687 Earth days      365.24 days\n",
       "Temperature:           -87 to -5 °C      -88 to 58°C"
      ]
     },
     "execution_count": 13,
     "metadata": {},
     "output_type": "execute_result"
    }
   ],
   "source": [
    "tables = pd.read_html(url)\n",
    "html_table = tables[0]\n",
    "html_table = html_table.rename(columns={0:\"Description\",1:\"Mars\",2:\"Earth\"})\n",
    "html_table = html_table.set_index(\"Description\")\n",
    "html_table = html_table.iloc[1:,:]\n",
    "html_table"
   ]
  },
  {
   "cell_type": "markdown",
   "id": "bca13933",
   "metadata": {},
   "source": [
    "df=tables[0]\n",
    "#Rename column headings\n",
    "df.rename(columns={0:\"Mars - Earth Comparison\",1:\"Mars\",2:\"Earth\"},inplace=True)\n",
    "#Drop first row since the column headings were imported as a row\n",
    "df=df.iloc[1:,:]\n",
    "df"
   ]
  },
  {
   "cell_type": "code",
   "execution_count": 14,
   "id": "c082a604",
   "metadata": {},
   "outputs": [],
   "source": [
    "html_table = html_table.to_html()"
   ]
  },
  {
   "cell_type": "code",
   "execution_count": 15,
   "id": "785528db",
   "metadata": {},
   "outputs": [
    {
     "data": {
      "text/plain": [
       "'<table border=\"1\" class=\"dataframe\">  <thead>    <tr style=\"text-align: right;\">      <th></th>      <th>Mars</th>      <th>Earth</th>    </tr>    <tr>      <th>Description</th>      <th></th>      <th></th>    </tr>  </thead>  <tbody>    <tr>      <th>Diameter:</th>      <td>6,779 km</td>      <td>12,742 km</td>    </tr>    <tr>      <th>Mass:</th>      <td>6.39 × 10^23 kg</td>      <td>5.97 × 10^24 kg</td>    </tr>    <tr>      <th>Moons:</th>      <td>2</td>      <td>1</td>    </tr>    <tr>      <th>Distance from Sun:</th>      <td>227,943,824 km</td>      <td>149,598,262 km</td>    </tr>    <tr>      <th>Length of Year:</th>      <td>687 Earth days</td>      <td>365.24 days</td>    </tr>    <tr>      <th>Temperature:</th>      <td>-87 to -5 °C</td>      <td>-88 to 58°C</td>    </tr>  </tbody></table>'"
      ]
     },
     "execution_count": 15,
     "metadata": {},
     "output_type": "execute_result"
    }
   ],
   "source": [
    "#Strip newlines\n",
    "html_table = html_table.replace(\"\\n\", \"\")\n",
    "html_table"
   ]
  },
  {
   "cell_type": "markdown",
   "id": "ec4064b4",
   "metadata": {},
   "source": [
    "# Mars Hemispheres"
   ]
  },
  {
   "cell_type": "code",
   "execution_count": 16,
   "id": "b75aa9b2",
   "metadata": {},
   "outputs": [],
   "source": [
    "url = 'https://marshemispheres.com/'\n",
    "browser.visit(url)\n",
    "html = browser.html\n",
    "soup = BeautifulSoup(html, 'html.parser')"
   ]
  },
  {
   "cell_type": "code",
   "execution_count": 17,
   "id": "d53994a1",
   "metadata": {},
   "outputs": [],
   "source": [
    "results = soup.find_all('div', class_='item')"
   ]
  },
  {
   "cell_type": "code",
   "execution_count": 18,
   "id": "9bd1ac58",
   "metadata": {},
   "outputs": [
    {
     "name": "stderr",
     "output_type": "stream",
     "text": [
      "C:\\Users\\Tower\\anaconda3\\envs\\PythonData38\\lib\\site-packages\\splinter\\driver\\webdriver\\__init__.py:519: FutureWarning: browser.find_link_by_partial_text is deprecated. Use browser.links.find_by_partial_text instead.\n",
      "  warnings.warn(\n"
     ]
    },
    {
     "name": "stdout",
     "output_type": "stream",
     "text": [
      "Number of clickable links found: 4\n",
      "==================================================\n"
     ]
    },
    {
     "data": {
      "text/plain": [
       "[{'title': 'Cerberus Hemisphere',\n",
       "  'img_url': 'https://marshemispheres.com/images/cerberus_enhanced.tif'},\n",
       " {'title': 'Schiaparelli Hemisphere',\n",
       "  'img_url': 'https://marshemispheres.com/images/schiaparelli_enhanced.tif'},\n",
       " {'title': 'Syrtis Major Hemisphere',\n",
       "  'img_url': 'https://marshemispheres.com/images/syrtis_major_enhanced.tif'},\n",
       " {'title': 'Valles Marineris Hemisphere',\n",
       "  'img_url': 'https://marshemispheres.com/images/valles_marineris_enhanced.tif'}]"
      ]
     },
     "execution_count": 18,
     "metadata": {},
     "output_type": "execute_result"
    }
   ],
   "source": [
    "sub_urls=[]\n",
    "hemisphere_image_list =[]\n",
    "for result in results:\n",
    "    # look for clickable links\n",
    "    href = result.find('a')['href']\n",
    "    LinkName = result.find('h3').text\n",
    "    sub_urls.append(url+href)\n",
    "    \n",
    "    browser.click_link_by_partial_text(LinkName)\n",
    "    clicked_html = url+browser.html\n",
    "    clicked_soup = BeautifulSoup(clicked_html, 'html.parser')\n",
    "    clicked_results = clicked_soup.find_all('div', class_='cover')\n",
    "    for clicked_result in clicked_results:\n",
    "        hi_href = url+clicked_result.find('a')['href']\n",
    "        hemisphere_image_dict={}\n",
    "        hemisphere_image_dict[\"title\"] = LinkName.rsplit(' ', 1)[0]\n",
    "        hemisphere_image_dict[\"img_url\"] = hi_href\n",
    "        hemisphere_image_list.append(hemisphere_image_dict)\n",
    "    browser.click_link_by_partial_text('Back')\n",
    "    \n",
    "print(f\"Number of clickable links found: {len(sub_urls)}\")\n",
    "print(\"=\"*50)\n",
    "hemisphere_image_list"
   ]
  },
  {
   "cell_type": "code",
   "execution_count": 19,
   "id": "e20184d2",
   "metadata": {},
   "outputs": [],
   "source": [
    "browser.quit()"
   ]
  },
  {
   "cell_type": "code",
   "execution_count": null,
   "id": "d17b4cc8",
   "metadata": {},
   "outputs": [],
   "source": []
  }
 ],
 "metadata": {
  "kernelspec": {
   "display_name": "Python 3",
   "language": "python",
   "name": "python3"
  },
  "language_info": {
   "codemirror_mode": {
    "name": "ipython",
    "version": 3
   },
   "file_extension": ".py",
   "mimetype": "text/x-python",
   "name": "python",
   "nbconvert_exporter": "python",
   "pygments_lexer": "ipython3",
   "version": "3.8.8"
  }
 },
 "nbformat": 4,
 "nbformat_minor": 5
}
