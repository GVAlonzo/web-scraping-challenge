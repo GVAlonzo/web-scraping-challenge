{
 "cells": [
  {
   "cell_type": "code",
   "execution_count": 8,
   "id": "120b8372",
   "metadata": {},
   "outputs": [],
   "source": [
    "########################################################################\n",
    "##\n",
    "##  Web Scraping Homework - Mission to Mars\n",
    "##\n",
    "##       Author: George Alonzo\n",
    "##     Due Date: November 20, 2021\n",
    "##\n",
    "########################################################################"
   ]
  },
  {
   "cell_type": "code",
   "execution_count": 9,
   "id": "73f5ee5e",
   "metadata": {},
   "outputs": [],
   "source": [
    "import pandas as pd\n",
    "from splinter import Browser\n",
    "from bs4 import BeautifulSoup\n",
    "from webdriver_manager.chrome import ChromeDriverManager\n",
    "from flask import Flask, jsonify"
   ]
  },
  {
   "cell_type": "code",
   "execution_count": 10,
   "id": "e3cac781",
   "metadata": {
    "scrolled": true
   },
   "outputs": [
    {
     "name": "stderr",
     "output_type": "stream",
     "text": [
      "\n",
      "\n",
      "====== WebDriver manager ======\n",
      "Current google-chrome version is 96.0.4664\n",
      "Get LATEST chromedriver version for 96.0.4664 google-chrome\n",
      "Driver [C:\\Users\\Tower\\.wdm\\drivers\\chromedriver\\win32\\96.0.4664.45\\chromedriver.exe] found in cache\n"
     ]
    }
   ],
   "source": [
    "# Setup splinter\n",
    "executable_path = {'executable_path': ChromeDriverManager().install()}\n",
    "browser = Browser('chrome', **executable_path, headless=False)"
   ]
  },
  {
   "cell_type": "markdown",
   "id": "dce95429",
   "metadata": {},
   "source": [
    "# NASA Mars News"
   ]
  },
  {
   "cell_type": "code",
   "execution_count": 11,
   "id": "07e01e5e",
   "metadata": {},
   "outputs": [],
   "source": [
    "url = 'https://redplanetscience.com/'\n",
    "browser.visit(url)"
   ]
  },
  {
   "cell_type": "code",
   "execution_count": 12,
   "id": "23ec1f36",
   "metadata": {},
   "outputs": [],
   "source": [
    "html = browser.html\n",
    "soup = BeautifulSoup(html, 'html.parser')"
   ]
  },
  {
   "cell_type": "code",
   "execution_count": 13,
   "id": "f7549da3",
   "metadata": {},
   "outputs": [],
   "source": [
    "# Retrieve the parent divs for all articles\n",
    "results = soup.find_all('div', class_='list_text')"
   ]
  },
  {
   "cell_type": "code",
   "execution_count": 14,
   "id": "7d1dba0c",
   "metadata": {},
   "outputs": [
    {
     "name": "stdout",
     "output_type": "stream",
     "text": [
      "-----------------\n",
      "[\"NASA's InSight Flexes Its Arm While Its 'Mole' Hits Pause\"]\n",
      "[\"Now that the lander's robotic arm has helped the mole get underground, it will resume science activities that have been on hold.\"]\n",
      "-----------------\n",
      "[\"NASA's InSight Flexes Its Arm While Its 'Mole' Hits Pause\", \"A New Video Captures the Science of NASA's Perseverance Mars Rover\"]\n",
      "[\"Now that the lander's robotic arm has helped the mole get underground, it will resume science activities that have been on hold.\", 'With a targeted launch date of July 30, the next robotic scientist NASA is sending to the to the Red Planet has big ambitions.']\n",
      "-----------------\n",
      "[\"NASA's InSight Flexes Its Arm While Its 'Mole' Hits Pause\", \"A New Video Captures the Science of NASA's Perseverance Mars Rover\", 'Mars 2020 Unwrapped and Ready for More Testing']\n",
      "[\"Now that the lander's robotic arm has helped the mole get underground, it will resume science activities that have been on hold.\", 'With a targeted launch date of July 30, the next robotic scientist NASA is sending to the to the Red Planet has big ambitions.', \"In time-lapse video, bunny-suited engineers remove the inner layer of protective foil on NASA's Mars 2020 rover after it was relocated for testing.\"]\n",
      "-----------------\n",
      "[\"NASA's InSight Flexes Its Arm While Its 'Mole' Hits Pause\", \"A New Video Captures the Science of NASA's Perseverance Mars Rover\", 'Mars 2020 Unwrapped and Ready for More Testing', \"NASA's Perseverance Rover Will Look at Mars Through These 'Eyes'\"]\n",
      "[\"Now that the lander's robotic arm has helped the mole get underground, it will resume science activities that have been on hold.\", 'With a targeted launch date of July 30, the next robotic scientist NASA is sending to the to the Red Planet has big ambitions.', \"In time-lapse video, bunny-suited engineers remove the inner layer of protective foil on NASA's Mars 2020 rover after it was relocated for testing.\", 'A pair of zoomable cameras will help scientists and rover drivers with high-resolution color images.']\n",
      "-----------------\n",
      "[\"NASA's InSight Flexes Its Arm While Its 'Mole' Hits Pause\", \"A New Video Captures the Science of NASA's Perseverance Mars Rover\", 'Mars 2020 Unwrapped and Ready for More Testing', \"NASA's Perseverance Rover Will Look at Mars Through These 'Eyes'\", \"Virginia Middle School Student Earns Honor of Naming NASA's Next Mars Rover\"]\n",
      "[\"Now that the lander's robotic arm has helped the mole get underground, it will resume science activities that have been on hold.\", 'With a targeted launch date of July 30, the next robotic scientist NASA is sending to the to the Red Planet has big ambitions.', \"In time-lapse video, bunny-suited engineers remove the inner layer of protective foil on NASA's Mars 2020 rover after it was relocated for testing.\", 'A pair of zoomable cameras will help scientists and rover drivers with high-resolution color images.', 'NASA chose a seventh-grader from Virginia as winner of the agency\\'s \"Name the Rover\" essay contest. Alexander Mather\\'s entry for \"Perseverance\" was voted tops among 28,000 entries. ']\n",
      "-----------------\n",
      "[\"NASA's InSight Flexes Its Arm While Its 'Mole' Hits Pause\", \"A New Video Captures the Science of NASA's Perseverance Mars Rover\", 'Mars 2020 Unwrapped and Ready for More Testing', \"NASA's Perseverance Rover Will Look at Mars Through These 'Eyes'\", \"Virginia Middle School Student Earns Honor of Naming NASA's Next Mars Rover\", \"InSight's 'Mole' Team Peers into the Pit\"]\n",
      "[\"Now that the lander's robotic arm has helped the mole get underground, it will resume science activities that have been on hold.\", 'With a targeted launch date of July 30, the next robotic scientist NASA is sending to the to the Red Planet has big ambitions.', \"In time-lapse video, bunny-suited engineers remove the inner layer of protective foil on NASA's Mars 2020 rover after it was relocated for testing.\", 'A pair of zoomable cameras will help scientists and rover drivers with high-resolution color images.', 'NASA chose a seventh-grader from Virginia as winner of the agency\\'s \"Name the Rover\" essay contest. Alexander Mather\\'s entry for \"Perseverance\" was voted tops among 28,000 entries. ', 'Efforts to save the heat probe continue.']\n",
      "-----------------\n",
      "[\"NASA's InSight Flexes Its Arm While Its 'Mole' Hits Pause\", \"A New Video Captures the Science of NASA's Perseverance Mars Rover\", 'Mars 2020 Unwrapped and Ready for More Testing', \"NASA's Perseverance Rover Will Look at Mars Through These 'Eyes'\", \"Virginia Middle School Student Earns Honor of Naming NASA's Next Mars Rover\", \"InSight's 'Mole' Team Peers into the Pit\", 'NASA to Hold Mars 2020 Perseverance Rover Launch Briefing']\n",
      "[\"Now that the lander's robotic arm has helped the mole get underground, it will resume science activities that have been on hold.\", 'With a targeted launch date of July 30, the next robotic scientist NASA is sending to the to the Red Planet has big ambitions.', \"In time-lapse video, bunny-suited engineers remove the inner layer of protective foil on NASA's Mars 2020 rover after it was relocated for testing.\", 'A pair of zoomable cameras will help scientists and rover drivers with high-resolution color images.', 'NASA chose a seventh-grader from Virginia as winner of the agency\\'s \"Name the Rover\" essay contest. Alexander Mather\\'s entry for \"Perseverance\" was voted tops among 28,000 entries. ', 'Efforts to save the heat probe continue.', \"Learn more about the agency's next Red Planet mission during a live event on June 17.\"]\n",
      "-----------------\n",
      "[\"NASA's InSight Flexes Its Arm While Its 'Mole' Hits Pause\", \"A New Video Captures the Science of NASA's Perseverance Mars Rover\", 'Mars 2020 Unwrapped and Ready for More Testing', \"NASA's Perseverance Rover Will Look at Mars Through These 'Eyes'\", \"Virginia Middle School Student Earns Honor of Naming NASA's Next Mars Rover\", \"InSight's 'Mole' Team Peers into the Pit\", 'NASA to Hold Mars 2020 Perseverance Rover Launch Briefing', 'NASA Establishes Board to Initially Review Mars Sample Return Plans']\n",
      "[\"Now that the lander's robotic arm has helped the mole get underground, it will resume science activities that have been on hold.\", 'With a targeted launch date of July 30, the next robotic scientist NASA is sending to the to the Red Planet has big ambitions.', \"In time-lapse video, bunny-suited engineers remove the inner layer of protective foil on NASA's Mars 2020 rover after it was relocated for testing.\", 'A pair of zoomable cameras will help scientists and rover drivers with high-resolution color images.', 'NASA chose a seventh-grader from Virginia as winner of the agency\\'s \"Name the Rover\" essay contest. Alexander Mather\\'s entry for \"Perseverance\" was voted tops among 28,000 entries. ', 'Efforts to save the heat probe continue.', \"Learn more about the agency's next Red Planet mission during a live event on June 17.\", 'The board will assist with analysis of current plans and goals for one of the most difficult missions humanity has ever undertaken.']\n",
      "-----------------\n",
      "[\"NASA's InSight Flexes Its Arm While Its 'Mole' Hits Pause\", \"A New Video Captures the Science of NASA's Perseverance Mars Rover\", 'Mars 2020 Unwrapped and Ready for More Testing', \"NASA's Perseverance Rover Will Look at Mars Through These 'Eyes'\", \"Virginia Middle School Student Earns Honor of Naming NASA's Next Mars Rover\", \"InSight's 'Mole' Team Peers into the Pit\", 'NASA to Hold Mars 2020 Perseverance Rover Launch Briefing', 'NASA Establishes Board to Initially Review Mars Sample Return Plans', 'NASA, ULA Launch Mars 2020 Perseverance Rover Mission to Red Planet']\n",
      "[\"Now that the lander's robotic arm has helped the mole get underground, it will resume science activities that have been on hold.\", 'With a targeted launch date of July 30, the next robotic scientist NASA is sending to the to the Red Planet has big ambitions.', \"In time-lapse video, bunny-suited engineers remove the inner layer of protective foil on NASA's Mars 2020 rover after it was relocated for testing.\", 'A pair of zoomable cameras will help scientists and rover drivers with high-resolution color images.', 'NASA chose a seventh-grader from Virginia as winner of the agency\\'s \"Name the Rover\" essay contest. Alexander Mather\\'s entry for \"Perseverance\" was voted tops among 28,000 entries. ', 'Efforts to save the heat probe continue.', \"Learn more about the agency's next Red Planet mission during a live event on June 17.\", 'The board will assist with analysis of current plans and goals for one of the most difficult missions humanity has ever undertaken.', \"The agency's Mars 2020 mission is on its way. It will land at Jezero Crater in about seven months, on Feb. 18, 2021. \"]\n",
      "-----------------\n",
      "[\"NASA's InSight Flexes Its Arm While Its 'Mole' Hits Pause\", \"A New Video Captures the Science of NASA's Perseverance Mars Rover\", 'Mars 2020 Unwrapped and Ready for More Testing', \"NASA's Perseverance Rover Will Look at Mars Through These 'Eyes'\", \"Virginia Middle School Student Earns Honor of Naming NASA's Next Mars Rover\", \"InSight's 'Mole' Team Peers into the Pit\", 'NASA to Hold Mars 2020 Perseverance Rover Launch Briefing', 'NASA Establishes Board to Initially Review Mars Sample Return Plans', 'NASA, ULA Launch Mars 2020 Perseverance Rover Mission to Red Planet', \"Meet the People Behind NASA's Perseverance Rover\"]\n",
      "[\"Now that the lander's robotic arm has helped the mole get underground, it will resume science activities that have been on hold.\", 'With a targeted launch date of July 30, the next robotic scientist NASA is sending to the to the Red Planet has big ambitions.', \"In time-lapse video, bunny-suited engineers remove the inner layer of protective foil on NASA's Mars 2020 rover after it was relocated for testing.\", 'A pair of zoomable cameras will help scientists and rover drivers with high-resolution color images.', 'NASA chose a seventh-grader from Virginia as winner of the agency\\'s \"Name the Rover\" essay contest. Alexander Mather\\'s entry for \"Perseverance\" was voted tops among 28,000 entries. ', 'Efforts to save the heat probe continue.', \"Learn more about the agency's next Red Planet mission during a live event on June 17.\", 'The board will assist with analysis of current plans and goals for one of the most difficult missions humanity has ever undertaken.', \"The agency's Mars 2020 mission is on its way. It will land at Jezero Crater in about seven months, on Feb. 18, 2021. \", \"These are the scientists and engineers who built NASA's next Mars rover and who will guide it to a safe landing in Jezero Crater. \"]\n",
      "-----------------\n",
      "[\"NASA's InSight Flexes Its Arm While Its 'Mole' Hits Pause\", \"A New Video Captures the Science of NASA's Perseverance Mars Rover\", 'Mars 2020 Unwrapped and Ready for More Testing', \"NASA's Perseverance Rover Will Look at Mars Through These 'Eyes'\", \"Virginia Middle School Student Earns Honor of Naming NASA's Next Mars Rover\", \"InSight's 'Mole' Team Peers into the Pit\", 'NASA to Hold Mars 2020 Perseverance Rover Launch Briefing', 'NASA Establishes Board to Initially Review Mars Sample Return Plans', 'NASA, ULA Launch Mars 2020 Perseverance Rover Mission to Red Planet', \"Meet the People Behind NASA's Perseverance Rover\", \"NASA's Perseverance Rover Goes Through Trials by Fire, Ice, Light and Sound\"]\n",
      "[\"Now that the lander's robotic arm has helped the mole get underground, it will resume science activities that have been on hold.\", 'With a targeted launch date of July 30, the next robotic scientist NASA is sending to the to the Red Planet has big ambitions.', \"In time-lapse video, bunny-suited engineers remove the inner layer of protective foil on NASA's Mars 2020 rover after it was relocated for testing.\", 'A pair of zoomable cameras will help scientists and rover drivers with high-resolution color images.', 'NASA chose a seventh-grader from Virginia as winner of the agency\\'s \"Name the Rover\" essay contest. Alexander Mather\\'s entry for \"Perseverance\" was voted tops among 28,000 entries. ', 'Efforts to save the heat probe continue.', \"Learn more about the agency's next Red Planet mission during a live event on June 17.\", 'The board will assist with analysis of current plans and goals for one of the most difficult missions humanity has ever undertaken.', \"The agency's Mars 2020 mission is on its way. It will land at Jezero Crater in about seven months, on Feb. 18, 2021. \", \"These are the scientists and engineers who built NASA's next Mars rover and who will guide it to a safe landing in Jezero Crater. \", \"The agency's new Mars rover is put through a series of tests in vacuum chambers, acoustic chambers and more to get ready for the Red Planet.\"]\n",
      "-----------------\n",
      "[\"NASA's InSight Flexes Its Arm While Its 'Mole' Hits Pause\", \"A New Video Captures the Science of NASA's Perseverance Mars Rover\", 'Mars 2020 Unwrapped and Ready for More Testing', \"NASA's Perseverance Rover Will Look at Mars Through These 'Eyes'\", \"Virginia Middle School Student Earns Honor of Naming NASA's Next Mars Rover\", \"InSight's 'Mole' Team Peers into the Pit\", 'NASA to Hold Mars 2020 Perseverance Rover Launch Briefing', 'NASA Establishes Board to Initially Review Mars Sample Return Plans', 'NASA, ULA Launch Mars 2020 Perseverance Rover Mission to Red Planet', \"Meet the People Behind NASA's Perseverance Rover\", \"NASA's Perseverance Rover Goes Through Trials by Fire, Ice, Light and Sound\", \"NASA Readies Perseverance Mars Rover's Earthly Twin \"]\n",
      "[\"Now that the lander's robotic arm has helped the mole get underground, it will resume science activities that have been on hold.\", 'With a targeted launch date of July 30, the next robotic scientist NASA is sending to the to the Red Planet has big ambitions.', \"In time-lapse video, bunny-suited engineers remove the inner layer of protective foil on NASA's Mars 2020 rover after it was relocated for testing.\", 'A pair of zoomable cameras will help scientists and rover drivers with high-resolution color images.', 'NASA chose a seventh-grader from Virginia as winner of the agency\\'s \"Name the Rover\" essay contest. Alexander Mather\\'s entry for \"Perseverance\" was voted tops among 28,000 entries. ', 'Efforts to save the heat probe continue.', \"Learn more about the agency's next Red Planet mission during a live event on June 17.\", 'The board will assist with analysis of current plans and goals for one of the most difficult missions humanity has ever undertaken.', \"The agency's Mars 2020 mission is on its way. It will land at Jezero Crater in about seven months, on Feb. 18, 2021. \", \"These are the scientists and engineers who built NASA's next Mars rover and who will guide it to a safe landing in Jezero Crater. \", \"The agency's new Mars rover is put through a series of tests in vacuum chambers, acoustic chambers and more to get ready for the Red Planet.\", \"Did you know NASA's next Mars rover has a nearly identical sibling on Earth for testing? Even better, it's about to roll for the first time through a replica Martian landscape.\"]\n",
      "-----------------\n",
      "[\"NASA's InSight Flexes Its Arm While Its 'Mole' Hits Pause\", \"A New Video Captures the Science of NASA's Perseverance Mars Rover\", 'Mars 2020 Unwrapped and Ready for More Testing', \"NASA's Perseverance Rover Will Look at Mars Through These 'Eyes'\", \"Virginia Middle School Student Earns Honor of Naming NASA's Next Mars Rover\", \"InSight's 'Mole' Team Peers into the Pit\", 'NASA to Hold Mars 2020 Perseverance Rover Launch Briefing', 'NASA Establishes Board to Initially Review Mars Sample Return Plans', 'NASA, ULA Launch Mars 2020 Perseverance Rover Mission to Red Planet', \"Meet the People Behind NASA's Perseverance Rover\", \"NASA's Perseverance Rover Goes Through Trials by Fire, Ice, Light and Sound\", \"NASA Readies Perseverance Mars Rover's Earthly Twin \", \"NASA's Perseverance Rover 100 Days Out\"]\n",
      "[\"Now that the lander's robotic arm has helped the mole get underground, it will resume science activities that have been on hold.\", 'With a targeted launch date of July 30, the next robotic scientist NASA is sending to the to the Red Planet has big ambitions.', \"In time-lapse video, bunny-suited engineers remove the inner layer of protective foil on NASA's Mars 2020 rover after it was relocated for testing.\", 'A pair of zoomable cameras will help scientists and rover drivers with high-resolution color images.', 'NASA chose a seventh-grader from Virginia as winner of the agency\\'s \"Name the Rover\" essay contest. Alexander Mather\\'s entry for \"Perseverance\" was voted tops among 28,000 entries. ', 'Efforts to save the heat probe continue.', \"Learn more about the agency's next Red Planet mission during a live event on June 17.\", 'The board will assist with analysis of current plans and goals for one of the most difficult missions humanity has ever undertaken.', \"The agency's Mars 2020 mission is on its way. It will land at Jezero Crater in about seven months, on Feb. 18, 2021. \", \"These are the scientists and engineers who built NASA's next Mars rover and who will guide it to a safe landing in Jezero Crater. \", \"The agency's new Mars rover is put through a series of tests in vacuum chambers, acoustic chambers and more to get ready for the Red Planet.\", \"Did you know NASA's next Mars rover has a nearly identical sibling on Earth for testing? Even better, it's about to roll for the first time through a replica Martian landscape.\", \"Mark your calendars: The agency's latest rover has only about 8,640,000 seconds to go before it touches down on the Red Planet, becoming history's next Mars car.\"]\n",
      "-----------------\n",
      "[\"NASA's InSight Flexes Its Arm While Its 'Mole' Hits Pause\", \"A New Video Captures the Science of NASA's Perseverance Mars Rover\", 'Mars 2020 Unwrapped and Ready for More Testing', \"NASA's Perseverance Rover Will Look at Mars Through These 'Eyes'\", \"Virginia Middle School Student Earns Honor of Naming NASA's Next Mars Rover\", \"InSight's 'Mole' Team Peers into the Pit\", 'NASA to Hold Mars 2020 Perseverance Rover Launch Briefing', 'NASA Establishes Board to Initially Review Mars Sample Return Plans', 'NASA, ULA Launch Mars 2020 Perseverance Rover Mission to Red Planet', \"Meet the People Behind NASA's Perseverance Rover\", \"NASA's Perseverance Rover Goes Through Trials by Fire, Ice, Light and Sound\", \"NASA Readies Perseverance Mars Rover's Earthly Twin \", \"NASA's Perseverance Rover 100 Days Out\", \"NASA's Curiosity Mars Rover Takes a New Selfie Before Record Climb\"]\n",
      "[\"Now that the lander's robotic arm has helped the mole get underground, it will resume science activities that have been on hold.\", 'With a targeted launch date of July 30, the next robotic scientist NASA is sending to the to the Red Planet has big ambitions.', \"In time-lapse video, bunny-suited engineers remove the inner layer of protective foil on NASA's Mars 2020 rover after it was relocated for testing.\", 'A pair of zoomable cameras will help scientists and rover drivers with high-resolution color images.', 'NASA chose a seventh-grader from Virginia as winner of the agency\\'s \"Name the Rover\" essay contest. Alexander Mather\\'s entry for \"Perseverance\" was voted tops among 28,000 entries. ', 'Efforts to save the heat probe continue.', \"Learn more about the agency's next Red Planet mission during a live event on June 17.\", 'The board will assist with analysis of current plans and goals for one of the most difficult missions humanity has ever undertaken.', \"The agency's Mars 2020 mission is on its way. It will land at Jezero Crater in about seven months, on Feb. 18, 2021. \", \"These are the scientists and engineers who built NASA's next Mars rover and who will guide it to a safe landing in Jezero Crater. \", \"The agency's new Mars rover is put through a series of tests in vacuum chambers, acoustic chambers and more to get ready for the Red Planet.\", \"Did you know NASA's next Mars rover has a nearly identical sibling on Earth for testing? Even better, it's about to roll for the first time through a replica Martian landscape.\", \"Mark your calendars: The agency's latest rover has only about 8,640,000 seconds to go before it touches down on the Red Planet, becoming history's next Mars car.\", 'Along with capturing an image before its steepest ascent ever, the robotic explorer filmed its \"selfie stick,\" or robotic arm, in action.']\n",
      "-----------------\n",
      "[\"NASA's InSight Flexes Its Arm While Its 'Mole' Hits Pause\", \"A New Video Captures the Science of NASA's Perseverance Mars Rover\", 'Mars 2020 Unwrapped and Ready for More Testing', \"NASA's Perseverance Rover Will Look at Mars Through These 'Eyes'\", \"Virginia Middle School Student Earns Honor of Naming NASA's Next Mars Rover\", \"InSight's 'Mole' Team Peers into the Pit\", 'NASA to Hold Mars 2020 Perseverance Rover Launch Briefing', 'NASA Establishes Board to Initially Review Mars Sample Return Plans', 'NASA, ULA Launch Mars 2020 Perseverance Rover Mission to Red Planet', \"Meet the People Behind NASA's Perseverance Rover\", \"NASA's Perseverance Rover Goes Through Trials by Fire, Ice, Light and Sound\", \"NASA Readies Perseverance Mars Rover's Earthly Twin \", \"NASA's Perseverance Rover 100 Days Out\", \"NASA's Curiosity Mars Rover Takes a New Selfie Before Record Climb\", \"Air Deliveries Bring NASA's Perseverance Mars Rover Closer to Launch\"]\n",
      "[\"Now that the lander's robotic arm has helped the mole get underground, it will resume science activities that have been on hold.\", 'With a targeted launch date of July 30, the next robotic scientist NASA is sending to the to the Red Planet has big ambitions.', \"In time-lapse video, bunny-suited engineers remove the inner layer of protective foil on NASA's Mars 2020 rover after it was relocated for testing.\", 'A pair of zoomable cameras will help scientists and rover drivers with high-resolution color images.', 'NASA chose a seventh-grader from Virginia as winner of the agency\\'s \"Name the Rover\" essay contest. Alexander Mather\\'s entry for \"Perseverance\" was voted tops among 28,000 entries. ', 'Efforts to save the heat probe continue.', \"Learn more about the agency's next Red Planet mission during a live event on June 17.\", 'The board will assist with analysis of current plans and goals for one of the most difficult missions humanity has ever undertaken.', \"The agency's Mars 2020 mission is on its way. It will land at Jezero Crater in about seven months, on Feb. 18, 2021. \", \"These are the scientists and engineers who built NASA's next Mars rover and who will guide it to a safe landing in Jezero Crater. \", \"The agency's new Mars rover is put through a series of tests in vacuum chambers, acoustic chambers and more to get ready for the Red Planet.\", \"Did you know NASA's next Mars rover has a nearly identical sibling on Earth for testing? Even better, it's about to roll for the first time through a replica Martian landscape.\", \"Mark your calendars: The agency's latest rover has only about 8,640,000 seconds to go before it touches down on the Red Planet, becoming history's next Mars car.\", 'Along with capturing an image before its steepest ascent ever, the robotic explorer filmed its \"selfie stick,\" or robotic arm, in action.', \"A NASA Wallops Flight Facility cargo plane transported more than two tons of equipment — including the rover's sample collection tubes — to Florida for this summer's liftoff.\"]\n",
      "==================================================\n",
      "Number of Headers scraped & stored: 15\n",
      "Number of Sub-Headers scraped & stored: 15\n"
     ]
    }
   ],
   "source": [
    "# loop over results to get article data\n",
    "\n",
    "# NOT GOING TO ATTEMPT TRYING TO CLICK THE 'MORE' BUTTON AS IT IS NOT ENABLED ON THE PAGE\n",
    "news_title=[]\n",
    "paragraph_text=[]\n",
    "for result in results:\n",
    "    # scrape the article header \n",
    "    news_title.append(result.find('div', class_='content_title').text)\n",
    "\n",
    "    # scrape the article subheader\n",
    "    paragraph_text.append(result.find('div', class_='article_teaser_body').text)\n",
    "    \n",
    "    # print data\n",
    "    print('-----------------')\n",
    "    print(news_title)\n",
    "    print(paragraph_text)\n",
    "\n",
    "print(\"=\"*50)\n",
    "print(f\"Number of Headers scraped & stored: {len(news_title)}\")\n",
    "print(f\"Number of Sub-Headers scraped & stored: {len(paragraph_text)}\")"
   ]
  },
  {
   "cell_type": "markdown",
   "id": "0d628cba",
   "metadata": {},
   "source": [
    "# JPL Mars Space Images - Featured Image"
   ]
  },
  {
   "cell_type": "code",
   "execution_count": 110,
   "id": "a342e29a",
   "metadata": {},
   "outputs": [],
   "source": [
    "url = 'https://spaceimages-mars.com/'\n",
    "browser.visit(url)"
   ]
  },
  {
   "cell_type": "code",
   "execution_count": 111,
   "id": "626a1f7c",
   "metadata": {},
   "outputs": [],
   "source": [
    "html = browser.html\n",
    "soup = BeautifulSoup(html, 'html.parser')"
   ]
  },
  {
   "cell_type": "code",
   "execution_count": 112,
   "id": "fcd3c1cc",
   "metadata": {},
   "outputs": [],
   "source": [
    "results = soup.find_all('div', class_='header')"
   ]
  },
  {
   "cell_type": "code",
   "execution_count": 113,
   "id": "0b240ae0",
   "metadata": {},
   "outputs": [
    {
     "name": "stdout",
     "output_type": "stream",
     "text": [
      "Header Image URL: https://spaceimages-mars.com/image/featured/mars2.jpg\n"
     ]
    }
   ],
   "source": [
    "for result in results:\n",
    "    featured_image = result.find('img', class_='headerimage fade-in')['src']\n",
    "    featured_image_url = \"https://spaceimages-mars.com/\"+featured_image\n",
    "      \n",
    "print(f\"Header Image URL: {featured_image_url}\")"
   ]
  },
  {
   "cell_type": "markdown",
   "id": "6954e58e",
   "metadata": {},
   "source": [
    "# Mars Facts"
   ]
  },
  {
   "cell_type": "code",
   "execution_count": 114,
   "id": "cbdc1a2c",
   "metadata": {},
   "outputs": [],
   "source": [
    "url = 'https://galaxyfacts-mars.com/'\n",
    "#browser.visit(url)"
   ]
  },
  {
   "cell_type": "code",
   "execution_count": 115,
   "id": "dd2fef6d",
   "metadata": {},
   "outputs": [],
   "source": [
    "tables = pd.read_html(url)\n",
    "html_table = tables[0]"
   ]
  },
  {
   "cell_type": "markdown",
   "id": "bca13933",
   "metadata": {},
   "source": [
    "df=tables[0]\n",
    "#Rename column headings\n",
    "df.rename(columns={0:\"Mars - Earth Comparison\",1:\"Mars\",2:\"Earth\"},inplace=True)\n",
    "#Drop first row since the column headings were imported as a row\n",
    "df=df.iloc[1:,:]\n",
    "df"
   ]
  },
  {
   "cell_type": "code",
   "execution_count": 116,
   "id": "c082a604",
   "metadata": {},
   "outputs": [],
   "source": [
    "html_table = html_table.to_html()"
   ]
  },
  {
   "cell_type": "code",
   "execution_count": 117,
   "id": "785528db",
   "metadata": {},
   "outputs": [
    {
     "data": {
      "text/plain": [
       "'<table border=\"1\" class=\"dataframe\">  <thead>    <tr style=\"text-align: right;\">      <th></th>      <th>0</th>      <th>1</th>      <th>2</th>    </tr>  </thead>  <tbody>    <tr>      <th>0</th>      <td>Mars - Earth Comparison</td>      <td>Mars</td>      <td>Earth</td>    </tr>    <tr>      <th>1</th>      <td>Diameter:</td>      <td>6,779 km</td>      <td>12,742 km</td>    </tr>    <tr>      <th>2</th>      <td>Mass:</td>      <td>6.39 × 10^23 kg</td>      <td>5.97 × 10^24 kg</td>    </tr>    <tr>      <th>3</th>      <td>Moons:</td>      <td>2</td>      <td>1</td>    </tr>    <tr>      <th>4</th>      <td>Distance from Sun:</td>      <td>227,943,824 km</td>      <td>149,598,262 km</td>    </tr>    <tr>      <th>5</th>      <td>Length of Year:</td>      <td>687 Earth days</td>      <td>365.24 days</td>    </tr>    <tr>      <th>6</th>      <td>Temperature:</td>      <td>-87 to -5 °C</td>      <td>-88 to 58°C</td>    </tr>  </tbody></table>'"
      ]
     },
     "execution_count": 117,
     "metadata": {},
     "output_type": "execute_result"
    }
   ],
   "source": [
    "#Strip newlines\n",
    "html_table = html_table.replace(\"\\n\", \"\")\n",
    "html_table"
   ]
  },
  {
   "cell_type": "markdown",
   "id": "ec4064b4",
   "metadata": {},
   "source": [
    "# Mars Hemispheres"
   ]
  },
  {
   "cell_type": "code",
   "execution_count": 118,
   "id": "b75aa9b2",
   "metadata": {},
   "outputs": [],
   "source": [
    "url = 'https://marshemispheres.com/'\n",
    "browser.visit(url)\n",
    "html = browser.html\n",
    "soup = BeautifulSoup(html, 'html.parser')"
   ]
  },
  {
   "cell_type": "code",
   "execution_count": 119,
   "id": "d53994a1",
   "metadata": {},
   "outputs": [],
   "source": [
    "results = soup.find_all('div', class_='item')"
   ]
  },
  {
   "cell_type": "code",
   "execution_count": 124,
   "id": "9bd1ac58",
   "metadata": {},
   "outputs": [
    {
     "name": "stdout",
     "output_type": "stream",
     "text": [
      "Number of clickable links found: 4\n",
      "==================================================\n"
     ]
    },
    {
     "data": {
      "text/plain": [
       "[{'title': 'Cerberus Hemisphere',\n",
       "  'img_url': 'https://marshemispheres.com/images/cerberus_enhanced.tif'},\n",
       " {'title': 'Schiaparelli Hemisphere',\n",
       "  'img_url': 'https://marshemispheres.com/images/schiaparelli_enhanced.tif'},\n",
       " {'title': 'Syrtis Major Hemisphere',\n",
       "  'img_url': 'https://marshemispheres.com/images/syrtis_major_enhanced.tif'},\n",
       " {'title': 'Valles Marineris Hemisphere',\n",
       "  'img_url': 'https://marshemispheres.com/images/valles_marineris_enhanced.tif'}]"
      ]
     },
     "execution_count": 124,
     "metadata": {},
     "output_type": "execute_result"
    }
   ],
   "source": [
    "sub_urls=[]\n",
    "hemisphere_image_list =[]\n",
    "for result in results:\n",
    "    # look for clickable links\n",
    "    href = result.find('a')['href']\n",
    "    LinkName = result.find('h3').text\n",
    "    sub_urls.append(url+href)\n",
    "    \n",
    "    browser.click_link_by_partial_text(LinkName)\n",
    "    clicked_html = url+browser.html\n",
    "    clicked_soup = BeautifulSoup(clicked_html, 'html.parser')\n",
    "    clicked_results = clicked_soup.find_all('div', class_='cover')\n",
    "    for clicked_result in clicked_results:\n",
    "        hi_href = url+clicked_result.find('a')['href']\n",
    "        hemisphere_image_dict={}\n",
    "        hemisphere_image_dict[\"title\"] = LinkName.rsplit(' ', 1)[0]\n",
    "        hemisphere_image_dict[\"img_url\"] = hi_href\n",
    "        hemisphere_image_list.append(hemisphere_image_dict)\n",
    "    browser.click_link_by_partial_text('Back')\n",
    "    \n",
    "print(f\"Number of clickable links found: {len(sub_urls)}\")\n",
    "print(\"=\"*50)\n",
    "hemisphere_image_list"
   ]
  },
  {
   "cell_type": "code",
   "execution_count": 15,
   "id": "e20184d2",
   "metadata": {},
   "outputs": [],
   "source": [
    "browser.quit()"
   ]
  },
  {
   "cell_type": "code",
   "execution_count": null,
   "id": "d17b4cc8",
   "metadata": {},
   "outputs": [],
   "source": []
  }
 ],
 "metadata": {
  "kernelspec": {
   "display_name": "Python 3",
   "language": "python",
   "name": "python3"
  },
  "language_info": {
   "codemirror_mode": {
    "name": "ipython",
    "version": 3
   },
   "file_extension": ".py",
   "mimetype": "text/x-python",
   "name": "python",
   "nbconvert_exporter": "python",
   "pygments_lexer": "ipython3",
   "version": "3.8.8"
  }
 },
 "nbformat": 4,
 "nbformat_minor": 5
}
