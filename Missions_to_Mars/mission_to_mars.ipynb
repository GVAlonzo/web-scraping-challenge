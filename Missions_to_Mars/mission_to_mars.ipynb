{
 "cells": [
  {
   "cell_type": "code",
   "execution_count": 84,
   "id": "120b8372",
   "metadata": {},
   "outputs": [],
   "source": [
    "########################################################################\n",
    "##\n",
    "##  Web Scraping Homework - Mission to Mars\n",
    "##\n",
    "##       Author: George Alonzo\n",
    "##     Due Date: November 20, 2021\n",
    "##\n",
    "########################################################################"
   ]
  },
  {
   "cell_type": "code",
   "execution_count": 85,
   "id": "73f5ee5e",
   "metadata": {},
   "outputs": [],
   "source": [
    "import pandas as pd\n",
    "from splinter import Browser\n",
    "from bs4 import BeautifulSoup\n",
    "from webdriver_manager.chrome import ChromeDriverManager"
   ]
  },
  {
   "cell_type": "code",
   "execution_count": 86,
   "id": "e3cac781",
   "metadata": {},
   "outputs": [
    {
     "name": "stderr",
     "output_type": "stream",
     "text": [
      "\n",
      "\n",
      "====== WebDriver manager ======\n",
      "Current google-chrome version is 95.0.4638\n",
      "Get LATEST chromedriver version for 95.0.4638 google-chrome\n",
      "Driver [C:\\Users\\Tower\\.wdm\\drivers\\chromedriver\\win32\\95.0.4638.69\\chromedriver.exe] found in cache\n"
     ]
    }
   ],
   "source": [
    "# Setup splinter\n",
    "executable_path = {'executable_path': ChromeDriverManager().install()}\n",
    "browser = Browser('chrome', **executable_path, headless=False)"
   ]
  },
  {
   "cell_type": "markdown",
   "id": "dce95429",
   "metadata": {},
   "source": [
    "# NASA Mars News"
   ]
  },
  {
   "cell_type": "code",
   "execution_count": 87,
   "id": "07e01e5e",
   "metadata": {},
   "outputs": [],
   "source": [
    "url = 'https://redplanetscience.com/'\n",
    "browser.visit(url)"
   ]
  },
  {
   "cell_type": "code",
   "execution_count": 88,
   "id": "23ec1f36",
   "metadata": {},
   "outputs": [],
   "source": [
    "html = browser.html\n",
    "soup = BeautifulSoup(html, 'html.parser')"
   ]
  },
  {
   "cell_type": "code",
   "execution_count": 89,
   "id": "f7549da3",
   "metadata": {},
   "outputs": [],
   "source": [
    "# Retrieve the parent divs for all articles\n",
    "results = soup.find_all('div', class_='list_text')"
   ]
  },
  {
   "cell_type": "code",
   "execution_count": 90,
   "id": "7d1dba0c",
   "metadata": {},
   "outputs": [
    {
     "name": "stdout",
     "output_type": "stream",
     "text": [
      "-----------------\n",
      "[\"NASA's Perseverance Rover Will Carry First Spacesuit Materials to Mars\"]\n",
      "['In a Q&A, spacesuit designer Amy Ross explains how five samples, including a piece of helmet visor, will be tested aboard the rover, which is targeting a July 30 launch. ']\n",
      "-----------------\n",
      "[\"NASA's Perseverance Rover Will Carry First Spacesuit Materials to Mars\", \"NASA's MAVEN Maps Winds in the Martian Upper Atmosphere that Mirror the Terrain Below and Gives Clues to Martian Climate\"]\n",
      "['In a Q&A, spacesuit designer Amy Ross explains how five samples, including a piece of helmet visor, will be tested aboard the rover, which is targeting a July 30 launch. ', 'Researchers have created the first map of wind circulation in the upper atmosphere of a planet besides Earth, using data from NASA’s MAVEN spacecraft that were collected during the last two years.']\n",
      "-----------------\n",
      "[\"NASA's Perseverance Rover Will Carry First Spacesuit Materials to Mars\", \"NASA's MAVEN Maps Winds in the Martian Upper Atmosphere that Mirror the Terrain Below and Gives Clues to Martian Climate\", 'Naming a NASA Mars Rover Can Change Your Life']\n",
      "['In a Q&A, spacesuit designer Amy Ross explains how five samples, including a piece of helmet visor, will be tested aboard the rover, which is targeting a July 30 launch. ', 'Researchers have created the first map of wind circulation in the upper atmosphere of a planet besides Earth, using data from NASA’s MAVEN spacecraft that were collected during the last two years.', 'Want to name the robotic scientist NASA is sending to Mars in 2020? The student who named Curiosity — the rover currently exploring Mars — will tell you this is an opportunity worth taking.']\n",
      "-----------------\n",
      "[\"NASA's Perseverance Rover Will Carry First Spacesuit Materials to Mars\", \"NASA's MAVEN Maps Winds in the Martian Upper Atmosphere that Mirror the Terrain Below and Gives Clues to Martian Climate\", 'Naming a NASA Mars Rover Can Change Your Life', \"NASA's Curiosity Keeps Rolling As Team Operates Rover From Home\"]\n",
      "['In a Q&A, spacesuit designer Amy Ross explains how five samples, including a piece of helmet visor, will be tested aboard the rover, which is targeting a July 30 launch. ', 'Researchers have created the first map of wind circulation in the upper atmosphere of a planet besides Earth, using data from NASA’s MAVEN spacecraft that were collected during the last two years.', 'Want to name the robotic scientist NASA is sending to Mars in 2020? The student who named Curiosity — the rover currently exploring Mars — will tell you this is an opportunity worth taking.', 'The team has learned to meet new challenges as they work remotely on the Mars mission.']\n",
      "-----------------\n",
      "[\"NASA's Perseverance Rover Will Carry First Spacesuit Materials to Mars\", \"NASA's MAVEN Maps Winds in the Martian Upper Atmosphere that Mirror the Terrain Below and Gives Clues to Martian Climate\", 'Naming a NASA Mars Rover Can Change Your Life', \"NASA's Curiosity Keeps Rolling As Team Operates Rover From Home\", \"How NASA's Perseverance Mars Team Adjusted to Work in the Time of Coronavirus \"]\n",
      "['In a Q&A, spacesuit designer Amy Ross explains how five samples, including a piece of helmet visor, will be tested aboard the rover, which is targeting a July 30 launch. ', 'Researchers have created the first map of wind circulation in the upper atmosphere of a planet besides Earth, using data from NASA’s MAVEN spacecraft that were collected during the last two years.', 'Want to name the robotic scientist NASA is sending to Mars in 2020? The student who named Curiosity — the rover currently exploring Mars — will tell you this is an opportunity worth taking.', 'The team has learned to meet new challenges as they work remotely on the Mars mission.', 'Like much of the rest of the world, the Mars rover team is pushing forward with its mission-critical work while putting the health and safety of their colleagues and community first.']\n",
      "-----------------\n",
      "[\"NASA's Perseverance Rover Will Carry First Spacesuit Materials to Mars\", \"NASA's MAVEN Maps Winds in the Martian Upper Atmosphere that Mirror the Terrain Below and Gives Clues to Martian Climate\", 'Naming a NASA Mars Rover Can Change Your Life', \"NASA's Curiosity Keeps Rolling As Team Operates Rover From Home\", \"How NASA's Perseverance Mars Team Adjusted to Work in the Time of Coronavirus \", 'NASA Prepares for Moon and Mars With New Addition to Its Deep Space Network']\n",
      "['In a Q&A, spacesuit designer Amy Ross explains how five samples, including a piece of helmet visor, will be tested aboard the rover, which is targeting a July 30 launch. ', 'Researchers have created the first map of wind circulation in the upper atmosphere of a planet besides Earth, using data from NASA’s MAVEN spacecraft that were collected during the last two years.', 'Want to name the robotic scientist NASA is sending to Mars in 2020? The student who named Curiosity — the rover currently exploring Mars — will tell you this is an opportunity worth taking.', 'The team has learned to meet new challenges as they work remotely on the Mars mission.', 'Like much of the rest of the world, the Mars rover team is pushing forward with its mission-critical work while putting the health and safety of their colleagues and community first.', 'Robotic spacecraft will be able to communicate with the dish using radio waves and lasers.']\n",
      "-----------------\n",
      "[\"NASA's Perseverance Rover Will Carry First Spacesuit Materials to Mars\", \"NASA's MAVEN Maps Winds in the Martian Upper Atmosphere that Mirror the Terrain Below and Gives Clues to Martian Climate\", 'Naming a NASA Mars Rover Can Change Your Life', \"NASA's Curiosity Keeps Rolling As Team Operates Rover From Home\", \"How NASA's Perseverance Mars Team Adjusted to Work in the Time of Coronavirus \", 'NASA Prepares for Moon and Mars With New Addition to Its Deep Space Network', \"NASA's Mars 2020 Rover Tests Descent-Stage Separation\"]\n",
      "['In a Q&A, spacesuit designer Amy Ross explains how five samples, including a piece of helmet visor, will be tested aboard the rover, which is targeting a July 30 launch. ', 'Researchers have created the first map of wind circulation in the upper atmosphere of a planet besides Earth, using data from NASA’s MAVEN spacecraft that were collected during the last two years.', 'Want to name the robotic scientist NASA is sending to Mars in 2020? The student who named Curiosity — the rover currently exploring Mars — will tell you this is an opportunity worth taking.', 'The team has learned to meet new challenges as they work remotely on the Mars mission.', 'Like much of the rest of the world, the Mars rover team is pushing forward with its mission-critical work while putting the health and safety of their colleagues and community first.', 'Robotic spacecraft will be able to communicate with the dish using radio waves and lasers.', \"A crane lifts the rocket-powered descent stage away from NASA's Mars 2020 rover after technicians tested the pyrotechnic charges that separate the two spacecraft.\"]\n",
      "-----------------\n",
      "[\"NASA's Perseverance Rover Will Carry First Spacesuit Materials to Mars\", \"NASA's MAVEN Maps Winds in the Martian Upper Atmosphere that Mirror the Terrain Below and Gives Clues to Martian Climate\", 'Naming a NASA Mars Rover Can Change Your Life', \"NASA's Curiosity Keeps Rolling As Team Operates Rover From Home\", \"How NASA's Perseverance Mars Team Adjusted to Work in the Time of Coronavirus \", 'NASA Prepares for Moon and Mars With New Addition to Its Deep Space Network', \"NASA's Mars 2020 Rover Tests Descent-Stage Separation\", \"Curiosity Mars Rover's Summer Road Trip Has Begun\"]\n",
      "['In a Q&A, spacesuit designer Amy Ross explains how five samples, including a piece of helmet visor, will be tested aboard the rover, which is targeting a July 30 launch. ', 'Researchers have created the first map of wind circulation in the upper atmosphere of a planet besides Earth, using data from NASA’s MAVEN spacecraft that were collected during the last two years.', 'Want to name the robotic scientist NASA is sending to Mars in 2020? The student who named Curiosity — the rover currently exploring Mars — will tell you this is an opportunity worth taking.', 'The team has learned to meet new challenges as they work remotely on the Mars mission.', 'Like much of the rest of the world, the Mars rover team is pushing forward with its mission-critical work while putting the health and safety of their colleagues and community first.', 'Robotic spacecraft will be able to communicate with the dish using radio waves and lasers.', \"A crane lifts the rocket-powered descent stage away from NASA's Mars 2020 rover after technicians tested the pyrotechnic charges that separate the two spacecraft.\", 'After more than a year in the \"clay-bearing unit,\" Curiosity is making a mile-long journey around some deep sand so that it can explore higher up Mount Sharp.']\n",
      "-----------------\n",
      "[\"NASA's Perseverance Rover Will Carry First Spacesuit Materials to Mars\", \"NASA's MAVEN Maps Winds in the Martian Upper Atmosphere that Mirror the Terrain Below and Gives Clues to Martian Climate\", 'Naming a NASA Mars Rover Can Change Your Life', \"NASA's Curiosity Keeps Rolling As Team Operates Rover From Home\", \"How NASA's Perseverance Mars Team Adjusted to Work in the Time of Coronavirus \", 'NASA Prepares for Moon and Mars With New Addition to Its Deep Space Network', \"NASA's Mars 2020 Rover Tests Descent-Stage Separation\", \"Curiosity Mars Rover's Summer Road Trip Has Begun\", 'NASA Perseverance Mars Rover Scientists Train in the Nevada Desert']\n",
      "['In a Q&A, spacesuit designer Amy Ross explains how five samples, including a piece of helmet visor, will be tested aboard the rover, which is targeting a July 30 launch. ', 'Researchers have created the first map of wind circulation in the upper atmosphere of a planet besides Earth, using data from NASA’s MAVEN spacecraft that were collected during the last two years.', 'Want to name the robotic scientist NASA is sending to Mars in 2020? The student who named Curiosity — the rover currently exploring Mars — will tell you this is an opportunity worth taking.', 'The team has learned to meet new challenges as they work remotely on the Mars mission.', 'Like much of the rest of the world, the Mars rover team is pushing forward with its mission-critical work while putting the health and safety of their colleagues and community first.', 'Robotic spacecraft will be able to communicate with the dish using radio waves and lasers.', \"A crane lifts the rocket-powered descent stage away from NASA's Mars 2020 rover after technicians tested the pyrotechnic charges that separate the two spacecraft.\", 'After more than a year in the \"clay-bearing unit,\" Curiosity is making a mile-long journey around some deep sand so that it can explore higher up Mount Sharp.', \"Team members searched for signs of ancient microscopic life there, just as NASA's latest rover will on the Red Planet next year.\"]\n",
      "-----------------\n",
      "[\"NASA's Perseverance Rover Will Carry First Spacesuit Materials to Mars\", \"NASA's MAVEN Maps Winds in the Martian Upper Atmosphere that Mirror the Terrain Below and Gives Clues to Martian Climate\", 'Naming a NASA Mars Rover Can Change Your Life', \"NASA's Curiosity Keeps Rolling As Team Operates Rover From Home\", \"How NASA's Perseverance Mars Team Adjusted to Work in the Time of Coronavirus \", 'NASA Prepares for Moon and Mars With New Addition to Its Deep Space Network', \"NASA's Mars 2020 Rover Tests Descent-Stage Separation\", \"Curiosity Mars Rover's Summer Road Trip Has Begun\", 'NASA Perseverance Mars Rover Scientists Train in the Nevada Desert', \"Screening Soon: 'The Pathfinders' Trains Lens on Mars\"]\n",
      "['In a Q&A, spacesuit designer Amy Ross explains how five samples, including a piece of helmet visor, will be tested aboard the rover, which is targeting a July 30 launch. ', 'Researchers have created the first map of wind circulation in the upper atmosphere of a planet besides Earth, using data from NASA’s MAVEN spacecraft that were collected during the last two years.', 'Want to name the robotic scientist NASA is sending to Mars in 2020? The student who named Curiosity — the rover currently exploring Mars — will tell you this is an opportunity worth taking.', 'The team has learned to meet new challenges as they work remotely on the Mars mission.', 'Like much of the rest of the world, the Mars rover team is pushing forward with its mission-critical work while putting the health and safety of their colleagues and community first.', 'Robotic spacecraft will be able to communicate with the dish using radio waves and lasers.', \"A crane lifts the rocket-powered descent stage away from NASA's Mars 2020 rover after technicians tested the pyrotechnic charges that separate the two spacecraft.\", 'After more than a year in the \"clay-bearing unit,\" Curiosity is making a mile-long journey around some deep sand so that it can explore higher up Mount Sharp.', \"Team members searched for signs of ancient microscopic life there, just as NASA's latest rover will on the Red Planet next year.\", 'With the Mars 2020 mission ramping up, the documentary — the first of four about past JPL missions to the Red Planet to be shown at Caltech — tells a gripping backstory.']\n",
      "-----------------\n",
      "[\"NASA's Perseverance Rover Will Carry First Spacesuit Materials to Mars\", \"NASA's MAVEN Maps Winds in the Martian Upper Atmosphere that Mirror the Terrain Below and Gives Clues to Martian Climate\", 'Naming a NASA Mars Rover Can Change Your Life', \"NASA's Curiosity Keeps Rolling As Team Operates Rover From Home\", \"How NASA's Perseverance Mars Team Adjusted to Work in the Time of Coronavirus \", 'NASA Prepares for Moon and Mars With New Addition to Its Deep Space Network', \"NASA's Mars 2020 Rover Tests Descent-Stage Separation\", \"Curiosity Mars Rover's Summer Road Trip Has Begun\", 'NASA Perseverance Mars Rover Scientists Train in the Nevada Desert', \"Screening Soon: 'The Pathfinders' Trains Lens on Mars\", \"The Launch Is Approaching for NASA's Next Mars Rover, Perseverance\"]\n",
      "['In a Q&A, spacesuit designer Amy Ross explains how five samples, including a piece of helmet visor, will be tested aboard the rover, which is targeting a July 30 launch. ', 'Researchers have created the first map of wind circulation in the upper atmosphere of a planet besides Earth, using data from NASA’s MAVEN spacecraft that were collected during the last two years.', 'Want to name the robotic scientist NASA is sending to Mars in 2020? The student who named Curiosity — the rover currently exploring Mars — will tell you this is an opportunity worth taking.', 'The team has learned to meet new challenges as they work remotely on the Mars mission.', 'Like much of the rest of the world, the Mars rover team is pushing forward with its mission-critical work while putting the health and safety of their colleagues and community first.', 'Robotic spacecraft will be able to communicate with the dish using radio waves and lasers.', \"A crane lifts the rocket-powered descent stage away from NASA's Mars 2020 rover after technicians tested the pyrotechnic charges that separate the two spacecraft.\", 'After more than a year in the \"clay-bearing unit,\" Curiosity is making a mile-long journey around some deep sand so that it can explore higher up Mount Sharp.', \"Team members searched for signs of ancient microscopic life there, just as NASA's latest rover will on the Red Planet next year.\", 'With the Mars 2020 mission ramping up, the documentary — the first of four about past JPL missions to the Red Planet to be shown at Caltech — tells a gripping backstory.', \"The Red Planet's surface has been visited by eight NASA spacecraft. The ninth will be the first that includes a roundtrip ticket in its flight plan. \"]\n",
      "-----------------\n",
      "[\"NASA's Perseverance Rover Will Carry First Spacesuit Materials to Mars\", \"NASA's MAVEN Maps Winds in the Martian Upper Atmosphere that Mirror the Terrain Below and Gives Clues to Martian Climate\", 'Naming a NASA Mars Rover Can Change Your Life', \"NASA's Curiosity Keeps Rolling As Team Operates Rover From Home\", \"How NASA's Perseverance Mars Team Adjusted to Work in the Time of Coronavirus \", 'NASA Prepares for Moon and Mars With New Addition to Its Deep Space Network', \"NASA's Mars 2020 Rover Tests Descent-Stage Separation\", \"Curiosity Mars Rover's Summer Road Trip Has Begun\", 'NASA Perseverance Mars Rover Scientists Train in the Nevada Desert', \"Screening Soon: 'The Pathfinders' Trains Lens on Mars\", \"The Launch Is Approaching for NASA's Next Mars Rover, Perseverance\", \"Mars InSight Lander to Push on Top of the 'Mole'\"]\n",
      "['In a Q&A, spacesuit designer Amy Ross explains how five samples, including a piece of helmet visor, will be tested aboard the rover, which is targeting a July 30 launch. ', 'Researchers have created the first map of wind circulation in the upper atmosphere of a planet besides Earth, using data from NASA’s MAVEN spacecraft that were collected during the last two years.', 'Want to name the robotic scientist NASA is sending to Mars in 2020? The student who named Curiosity — the rover currently exploring Mars — will tell you this is an opportunity worth taking.', 'The team has learned to meet new challenges as they work remotely on the Mars mission.', 'Like much of the rest of the world, the Mars rover team is pushing forward with its mission-critical work while putting the health and safety of their colleagues and community first.', 'Robotic spacecraft will be able to communicate with the dish using radio waves and lasers.', \"A crane lifts the rocket-powered descent stage away from NASA's Mars 2020 rover after technicians tested the pyrotechnic charges that separate the two spacecraft.\", 'After more than a year in the \"clay-bearing unit,\" Curiosity is making a mile-long journey around some deep sand so that it can explore higher up Mount Sharp.', \"Team members searched for signs of ancient microscopic life there, just as NASA's latest rover will on the Red Planet next year.\", 'With the Mars 2020 mission ramping up, the documentary — the first of four about past JPL missions to the Red Planet to be shown at Caltech — tells a gripping backstory.', \"The Red Planet's surface has been visited by eight NASA spacecraft. The ninth will be the first that includes a roundtrip ticket in its flight plan. \", 'Engineers have a plan for pushing down on the heat probe, which has been stuck at the Martian surface for a year.']\n",
      "-----------------\n",
      "[\"NASA's Perseverance Rover Will Carry First Spacesuit Materials to Mars\", \"NASA's MAVEN Maps Winds in the Martian Upper Atmosphere that Mirror the Terrain Below and Gives Clues to Martian Climate\", 'Naming a NASA Mars Rover Can Change Your Life', \"NASA's Curiosity Keeps Rolling As Team Operates Rover From Home\", \"How NASA's Perseverance Mars Team Adjusted to Work in the Time of Coronavirus \", 'NASA Prepares for Moon and Mars With New Addition to Its Deep Space Network', \"NASA's Mars 2020 Rover Tests Descent-Stage Separation\", \"Curiosity Mars Rover's Summer Road Trip Has Begun\", 'NASA Perseverance Mars Rover Scientists Train in the Nevada Desert', \"Screening Soon: 'The Pathfinders' Trains Lens on Mars\", \"The Launch Is Approaching for NASA's Next Mars Rover, Perseverance\", \"Mars InSight Lander to Push on Top of the 'Mole'\", 'Sensors on Mars 2020 Spacecraft Answer Long-Distance Call From Earth']\n",
      "['In a Q&A, spacesuit designer Amy Ross explains how five samples, including a piece of helmet visor, will be tested aboard the rover, which is targeting a July 30 launch. ', 'Researchers have created the first map of wind circulation in the upper atmosphere of a planet besides Earth, using data from NASA’s MAVEN spacecraft that were collected during the last two years.', 'Want to name the robotic scientist NASA is sending to Mars in 2020? The student who named Curiosity — the rover currently exploring Mars — will tell you this is an opportunity worth taking.', 'The team has learned to meet new challenges as they work remotely on the Mars mission.', 'Like much of the rest of the world, the Mars rover team is pushing forward with its mission-critical work while putting the health and safety of their colleagues and community first.', 'Robotic spacecraft will be able to communicate with the dish using radio waves and lasers.', \"A crane lifts the rocket-powered descent stage away from NASA's Mars 2020 rover after technicians tested the pyrotechnic charges that separate the two spacecraft.\", 'After more than a year in the \"clay-bearing unit,\" Curiosity is making a mile-long journey around some deep sand so that it can explore higher up Mount Sharp.', \"Team members searched for signs of ancient microscopic life there, just as NASA's latest rover will on the Red Planet next year.\", 'With the Mars 2020 mission ramping up, the documentary — the first of four about past JPL missions to the Red Planet to be shown at Caltech — tells a gripping backstory.', \"The Red Planet's surface has been visited by eight NASA spacecraft. The ninth will be the first that includes a roundtrip ticket in its flight plan. \", 'Engineers have a plan for pushing down on the heat probe, which has been stuck at the Martian surface for a year.', \"Instruments tailored to collect data during the descent of NASA's next rover through the Red Planet's atmosphere have been checked in flight.\"]\n",
      "-----------------\n",
      "[\"NASA's Perseverance Rover Will Carry First Spacesuit Materials to Mars\", \"NASA's MAVEN Maps Winds in the Martian Upper Atmosphere that Mirror the Terrain Below and Gives Clues to Martian Climate\", 'Naming a NASA Mars Rover Can Change Your Life', \"NASA's Curiosity Keeps Rolling As Team Operates Rover From Home\", \"How NASA's Perseverance Mars Team Adjusted to Work in the Time of Coronavirus \", 'NASA Prepares for Moon and Mars With New Addition to Its Deep Space Network', \"NASA's Mars 2020 Rover Tests Descent-Stage Separation\", \"Curiosity Mars Rover's Summer Road Trip Has Begun\", 'NASA Perseverance Mars Rover Scientists Train in the Nevada Desert', \"Screening Soon: 'The Pathfinders' Trains Lens on Mars\", \"The Launch Is Approaching for NASA's Next Mars Rover, Perseverance\", \"Mars InSight Lander to Push on Top of the 'Mole'\", 'Sensors on Mars 2020 Spacecraft Answer Long-Distance Call From Earth', 'Heat and Dust Help Launch Martian Water Into Space, Scientists Find']\n",
      "['In a Q&A, spacesuit designer Amy Ross explains how five samples, including a piece of helmet visor, will be tested aboard the rover, which is targeting a July 30 launch. ', 'Researchers have created the first map of wind circulation in the upper atmosphere of a planet besides Earth, using data from NASA’s MAVEN spacecraft that were collected during the last two years.', 'Want to name the robotic scientist NASA is sending to Mars in 2020? The student who named Curiosity — the rover currently exploring Mars — will tell you this is an opportunity worth taking.', 'The team has learned to meet new challenges as they work remotely on the Mars mission.', 'Like much of the rest of the world, the Mars rover team is pushing forward with its mission-critical work while putting the health and safety of their colleagues and community first.', 'Robotic spacecraft will be able to communicate with the dish using radio waves and lasers.', \"A crane lifts the rocket-powered descent stage away from NASA's Mars 2020 rover after technicians tested the pyrotechnic charges that separate the two spacecraft.\", 'After more than a year in the \"clay-bearing unit,\" Curiosity is making a mile-long journey around some deep sand so that it can explore higher up Mount Sharp.', \"Team members searched for signs of ancient microscopic life there, just as NASA's latest rover will on the Red Planet next year.\", 'With the Mars 2020 mission ramping up, the documentary — the first of four about past JPL missions to the Red Planet to be shown at Caltech — tells a gripping backstory.', \"The Red Planet's surface has been visited by eight NASA spacecraft. The ninth will be the first that includes a roundtrip ticket in its flight plan. \", 'Engineers have a plan for pushing down on the heat probe, which has been stuck at the Martian surface for a year.', \"Instruments tailored to collect data during the descent of NASA's next rover through the Red Planet's atmosphere have been checked in flight.\", 'Scientists using an instrument aboard NASA’s Mars Atmosphere and Volatile EvolutioN, or MAVEN, spacecraft have discovered that water vapor near the surface of the Red Planet is lofted higher into the atmosphere than anyone expected was possible. ']\n",
      "-----------------\n",
      "[\"NASA's Perseverance Rover Will Carry First Spacesuit Materials to Mars\", \"NASA's MAVEN Maps Winds in the Martian Upper Atmosphere that Mirror the Terrain Below and Gives Clues to Martian Climate\", 'Naming a NASA Mars Rover Can Change Your Life', \"NASA's Curiosity Keeps Rolling As Team Operates Rover From Home\", \"How NASA's Perseverance Mars Team Adjusted to Work in the Time of Coronavirus \", 'NASA Prepares for Moon and Mars With New Addition to Its Deep Space Network', \"NASA's Mars 2020 Rover Tests Descent-Stage Separation\", \"Curiosity Mars Rover's Summer Road Trip Has Begun\", 'NASA Perseverance Mars Rover Scientists Train in the Nevada Desert', \"Screening Soon: 'The Pathfinders' Trains Lens on Mars\", \"The Launch Is Approaching for NASA's Next Mars Rover, Perseverance\", \"Mars InSight Lander to Push on Top of the 'Mole'\", 'Sensors on Mars 2020 Spacecraft Answer Long-Distance Call From Earth', 'Heat and Dust Help Launch Martian Water Into Space, Scientists Find', \"HiRISE Views NASA's InSight and Curiosity on Mars\"]\n",
      "['In a Q&A, spacesuit designer Amy Ross explains how five samples, including a piece of helmet visor, will be tested aboard the rover, which is targeting a July 30 launch. ', 'Researchers have created the first map of wind circulation in the upper atmosphere of a planet besides Earth, using data from NASA’s MAVEN spacecraft that were collected during the last two years.', 'Want to name the robotic scientist NASA is sending to Mars in 2020? The student who named Curiosity — the rover currently exploring Mars — will tell you this is an opportunity worth taking.', 'The team has learned to meet new challenges as they work remotely on the Mars mission.', 'Like much of the rest of the world, the Mars rover team is pushing forward with its mission-critical work while putting the health and safety of their colleagues and community first.', 'Robotic spacecraft will be able to communicate with the dish using radio waves and lasers.', \"A crane lifts the rocket-powered descent stage away from NASA's Mars 2020 rover after technicians tested the pyrotechnic charges that separate the two spacecraft.\", 'After more than a year in the \"clay-bearing unit,\" Curiosity is making a mile-long journey around some deep sand so that it can explore higher up Mount Sharp.', \"Team members searched for signs of ancient microscopic life there, just as NASA's latest rover will on the Red Planet next year.\", 'With the Mars 2020 mission ramping up, the documentary — the first of four about past JPL missions to the Red Planet to be shown at Caltech — tells a gripping backstory.', \"The Red Planet's surface has been visited by eight NASA spacecraft. The ninth will be the first that includes a roundtrip ticket in its flight plan. \", 'Engineers have a plan for pushing down on the heat probe, which has been stuck at the Martian surface for a year.', \"Instruments tailored to collect data during the descent of NASA's next rover through the Red Planet's atmosphere have been checked in flight.\", 'Scientists using an instrument aboard NASA’s Mars Atmosphere and Volatile EvolutioN, or MAVEN, spacecraft have discovered that water vapor near the surface of the Red Planet is lofted higher into the atmosphere than anyone expected was possible. ', 'New images taken from space offer the clearest orbital glimpse yet of InSight as well as a view of Curiosity rolling along.']\n",
      "==================================================\n",
      "Number of Headers scraped & stored: 15\n",
      "Number of Sub-Headers scraped & stored: 15\n"
     ]
    }
   ],
   "source": [
    "# loop over results to get article data\n",
    "\n",
    "# NOT GOING TO ATTEMPT TRYING TO CLICK THE 'MORE' BUTTON AS IT IS NOT ENABLED ON THE PAGE\n",
    "news_title=[]\n",
    "paragraph_text=[]\n",
    "for result in results:\n",
    "    # scrape the article header \n",
    "    news_title.append(result.find('div', class_='content_title').text)\n",
    "\n",
    "    # scrape the article subheader\n",
    "    paragraph_text.append(result.find('div', class_='article_teaser_body').text)\n",
    "    \n",
    "    # print data\n",
    "    print('-----------------')\n",
    "    print(news_title)\n",
    "    print(paragraph_text)\n",
    "\n",
    "print(\"=\"*50)\n",
    "print(f\"Number of Headers scraped & stored: {len(news_title)}\")\n",
    "print(f\"Number of Sub-Headers scraped & stored: {len(paragraph_text)}\")"
   ]
  },
  {
   "cell_type": "markdown",
   "id": "0d628cba",
   "metadata": {},
   "source": [
    "# JPL Mars Space Images - Featured Image"
   ]
  },
  {
   "cell_type": "code",
   "execution_count": 91,
   "id": "a342e29a",
   "metadata": {},
   "outputs": [],
   "source": [
    "url = 'https://spaceimages-mars.com/'\n",
    "browser.visit(url)"
   ]
  },
  {
   "cell_type": "code",
   "execution_count": 92,
   "id": "626a1f7c",
   "metadata": {},
   "outputs": [],
   "source": [
    "html = browser.html\n",
    "soup = BeautifulSoup(html, 'html.parser')"
   ]
  },
  {
   "cell_type": "code",
   "execution_count": 93,
   "id": "fcd3c1cc",
   "metadata": {},
   "outputs": [],
   "source": [
    "results = soup.find_all('div', class_='header')"
   ]
  },
  {
   "cell_type": "code",
   "execution_count": 94,
   "id": "0b240ae0",
   "metadata": {},
   "outputs": [
    {
     "name": "stdout",
     "output_type": "stream",
     "text": [
      "Header Image URL: https://spaceimages-mars.com/image/featured/mars1.jpg\n"
     ]
    }
   ],
   "source": [
    "for result in results:\n",
    "    featured_image = result.find('img', class_='headerimage fade-in')['src']\n",
    "    featured_image_url = \"https://spaceimages-mars.com/\"+featured_image\n",
    "      \n",
    "print(f\"Header Image URL: {featured_image_url}\")"
   ]
  },
  {
   "cell_type": "markdown",
   "id": "6954e58e",
   "metadata": {},
   "source": [
    "# Mars Facts"
   ]
  },
  {
   "cell_type": "code",
   "execution_count": 95,
   "id": "cbdc1a2c",
   "metadata": {},
   "outputs": [],
   "source": [
    "url = 'https://galaxyfacts-mars.com/'\n",
    "#browser.visit(url)"
   ]
  },
  {
   "cell_type": "code",
   "execution_count": 96,
   "id": "dd2fef6d",
   "metadata": {},
   "outputs": [],
   "source": [
    "tables = pd.read_html(url)\n",
    "html_table = tables[0]"
   ]
  },
  {
   "cell_type": "markdown",
   "id": "bca13933",
   "metadata": {},
   "source": [
    "df=tables[0]\n",
    "#Rename column headings\n",
    "df.rename(columns={0:\"Mars - Earth Comparison\",1:\"Mars\",2:\"Earth\"},inplace=True)\n",
    "#Drop first row since the column headings were imported as a row\n",
    "df=df.iloc[1:,:]\n",
    "df"
   ]
  },
  {
   "cell_type": "code",
   "execution_count": 97,
   "id": "c082a604",
   "metadata": {},
   "outputs": [],
   "source": [
    "html_table = html_table.to_html()"
   ]
  },
  {
   "cell_type": "code",
   "execution_count": 98,
   "id": "785528db",
   "metadata": {},
   "outputs": [
    {
     "data": {
      "text/plain": [
       "'<table border=\"1\" class=\"dataframe\">  <thead>    <tr style=\"text-align: right;\">      <th></th>      <th>0</th>      <th>1</th>      <th>2</th>    </tr>  </thead>  <tbody>    <tr>      <th>0</th>      <td>Mars - Earth Comparison</td>      <td>Mars</td>      <td>Earth</td>    </tr>    <tr>      <th>1</th>      <td>Diameter:</td>      <td>6,779 km</td>      <td>12,742 km</td>    </tr>    <tr>      <th>2</th>      <td>Mass:</td>      <td>6.39 × 10^23 kg</td>      <td>5.97 × 10^24 kg</td>    </tr>    <tr>      <th>3</th>      <td>Moons:</td>      <td>2</td>      <td>1</td>    </tr>    <tr>      <th>4</th>      <td>Distance from Sun:</td>      <td>227,943,824 km</td>      <td>149,598,262 km</td>    </tr>    <tr>      <th>5</th>      <td>Length of Year:</td>      <td>687 Earth days</td>      <td>365.24 days</td>    </tr>    <tr>      <th>6</th>      <td>Temperature:</td>      <td>-87 to -5 °C</td>      <td>-88 to 58°C</td>    </tr>  </tbody></table>'"
      ]
     },
     "execution_count": 98,
     "metadata": {},
     "output_type": "execute_result"
    }
   ],
   "source": [
    "#Strip newlines\n",
    "html_table = html_table.replace(\"\\n\", \"\")\n",
    "html_table"
   ]
  },
  {
   "cell_type": "markdown",
   "id": "ec4064b4",
   "metadata": {},
   "source": [
    "# Mars Hemispheres"
   ]
  },
  {
   "cell_type": "code",
   "execution_count": 99,
   "id": "b75aa9b2",
   "metadata": {},
   "outputs": [],
   "source": [
    "url = 'https://marshemispheres.com/'\n",
    "browser.visit(url)\n",
    "html = browser.html\n",
    "soup = BeautifulSoup(html, 'html.parser')"
   ]
  },
  {
   "cell_type": "code",
   "execution_count": 100,
   "id": "d53994a1",
   "metadata": {},
   "outputs": [],
   "source": [
    "results = soup.find_all('div', class_='item')"
   ]
  },
  {
   "cell_type": "code",
   "execution_count": 120,
   "id": "9bd1ac58",
   "metadata": {},
   "outputs": [
    {
     "name": "stdout",
     "output_type": "stream",
     "text": [
      "Number of clickable links found: 4\n",
      "==================================================\n"
     ]
    }
   ],
   "source": [
    "sub_urls=[]\n",
    "for result in results:\n",
    "    # look for clickable links\n",
    "    href = result.find('a')['href']\n",
    "    LinkName = result.find('h3').text\n",
    "    sub_urls.append(url+href)\n",
    "    # print data\n",
    "    #print('-----------------')\n",
    "    #print(href)\n",
    "    #print(LinkName)\n",
    "    \n",
    "    browser.click_link_by_partial_text(LinkName)\n",
    "    \n",
    "    \n",
    "    \n",
    "    browser.click_link_by_partial_text('Back')\n",
    "\n",
    "\n",
    "print(f\"Number of clickable links found: {len(found_urls)}\")\n",
    "print(\"=\"*50)\n",
    "#found_urls"
   ]
  },
  {
   "cell_type": "code",
   "execution_count": null,
   "id": "3cba8ec1",
   "metadata": {},
   "outputs": [],
   "source": []
  },
  {
   "cell_type": "code",
   "execution_count": null,
   "id": "e11995be",
   "metadata": {},
   "outputs": [],
   "source": []
  },
  {
   "cell_type": "code",
   "execution_count": null,
   "id": "11161717",
   "metadata": {},
   "outputs": [],
   "source": []
  },
  {
   "cell_type": "code",
   "execution_count": null,
   "id": "e7ed1c7a",
   "metadata": {},
   "outputs": [],
   "source": []
  },
  {
   "cell_type": "code",
   "execution_count": 121,
   "id": "e20184d2",
   "metadata": {},
   "outputs": [],
   "source": [
    "browser.quit()"
   ]
  },
  {
   "cell_type": "code",
   "execution_count": null,
   "id": "257904eb",
   "metadata": {},
   "outputs": [],
   "source": []
  }
 ],
 "metadata": {
  "kernelspec": {
   "display_name": "Python 3",
   "language": "python",
   "name": "python3"
  },
  "language_info": {
   "codemirror_mode": {
    "name": "ipython",
    "version": 3
   },
   "file_extension": ".py",
   "mimetype": "text/x-python",
   "name": "python",
   "nbconvert_exporter": "python",
   "pygments_lexer": "ipython3",
   "version": "3.8.8"
  }
 },
 "nbformat": 4,
 "nbformat_minor": 5
}
